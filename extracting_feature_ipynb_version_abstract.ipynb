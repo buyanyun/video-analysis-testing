{
 "cells": [
  {
   "cell_type": "markdown",
   "metadata": {},
   "source": [
    "### Extracting the number of movement and time in SCIT1 and SCIT2"
   ]
  },
  {
   "cell_type": "code",
   "execution_count": 1,
   "metadata": {
    "scrolled": true
   },
   "outputs": [
    {
     "name": "stdout",
     "output_type": "stream",
     "text": [
      "starting extract EJ00004 JSON files...\n",
      "EJ00004Number of movement based on velocity(threshold_v =  0.0625 ):\n",
      "34\n",
      "0\n",
      "EJ00004Number of movement based on velocity(threshold_v =  0.125 ):\n",
      "45\n",
      "0\n",
      "EJ00004Number of movement based on velocity(threshold_v =  0.1875 ):\n",
      "47\n",
      "0\n",
      "EJ00004Number of movement based on velocity(threshold_v =  0.25 ):\n",
      "43\n",
      "0\n",
      "EJ00004Number of movement based on velocity(threshold_v =  0.3125 ):\n",
      "40\n",
      "0\n",
      "EJ00004Number of movement based on velocity(threshold_v =  0.375 ):\n",
      "36\n",
      "0\n",
      "EJ00004Number of movement based on velocity(threshold_v =  0.4375 ):\n",
      "30\n",
      "0\n",
      "EJ00004Number of movement based on velocity(threshold_v =  0.5 ):\n",
      "26\n",
      "0\n",
      "EJ00004Number of movement based on velocity(threshold_v =  0.5625 ):\n",
      "22\n",
      "0\n",
      "EJ00004Number of movement based on velocity(threshold_v =  0.625 ):\n",
      "21\n",
      "0\n",
      "EJ00004Number of movement based on velocity(threshold_v =  0.6875 ):\n",
      "18\n",
      "0\n",
      "EJ00004Number of movement based on velocity(threshold_v =  0.75 ):\n",
      "15\n",
      "0\n",
      "EJ00004Number of movement based on velocity(threshold_v =  0.8125 ):\n",
      "11\n",
      "0\n",
      "EJ00004Number of movement based on velocity(threshold_v =  0.875 ):\n",
      "8\n",
      "0\n",
      "EJ00004Number of movement based on velocity(threshold_v =  0.9375 ):\n",
      "4\n",
      "0\n",
      "EJ00004Number of movement based on velocity(threshold_v =  1.0 ):\n",
      "1\n",
      "0\n",
      "EJ00004Number of movement based on velocity(threshold_v =  1.0625 ):\n",
      "0\n",
      "0\n",
      "EJ00004Number of movement based on velocity(threshold_v =  1.125 ):\n",
      "0\n",
      "0\n",
      "EJ00004Number of movement based on velocity(threshold_v =  1.1875 ):\n",
      "0\n",
      "0\n",
      "EJ00004Number of movement based on magnitude(threshold_m =  1 ):\n",
      "27\n",
      "0\n",
      "EJ00004Number of movement based on magnitude(threshold_m =  2 ):\n",
      "33\n",
      "0\n",
      "EJ00004Number of movement based on magnitude(threshold_m =  3 ):\n",
      "31\n",
      "0\n",
      "EJ00004Number of movement based on magnitude(threshold_m =  4 ):\n",
      "28\n",
      "0\n",
      "EJ00004Number of movement based on magnitude(threshold_m =  5 ):\n",
      "25\n",
      "0\n",
      "EJ00004Number of movement based on magnitude(threshold_m =  6 ):\n",
      "25\n",
      "0\n",
      "EJ00004Number of movement based on magnitude(threshold_m =  7 ):\n",
      "22\n",
      "0\n",
      "EJ00004Number of movement based on magnitude(threshold_m =  8 ):\n",
      "16\n",
      "0\n",
      "EJ00004Number of movement based on magnitude(threshold_m =  9 ):\n",
      "13\n",
      "0\n",
      "EJ00004Number of movement based on magnitude(threshold_m =  10 ):\n",
      "9\n",
      "0\n",
      "EJ00004Number of movement based on magnitude(threshold_m =  11 ):\n",
      "8\n",
      "0\n",
      "EJ00004Number of movement based on magnitude(threshold_m =  12 ):\n",
      "5\n",
      "0\n",
      "EJ00004Number of movement based on magnitude(threshold_m =  13 ):\n",
      "5\n",
      "0\n",
      "EJ00004Number of movement based on magnitude(threshold_m =  14 ):\n",
      "5\n",
      "0\n",
      "EJ00004Number of movement based on magnitude(threshold_m =  15 ):\n",
      "4\n",
      "0\n",
      "EJ00004Number of movement based on magnitude(threshold_m =  16 ):\n",
      "3\n",
      "0\n",
      "EJ00004Number of movement based on magnitude(threshold_m =  17 ):\n",
      "2\n",
      "0\n",
      "EJ00004Number of movement based on magnitude(threshold_m =  18 ):\n",
      "2\n",
      "0\n",
      "EJ00004Number of movement based on magnitude(threshold_m =  19 ):\n",
      "0\n",
      "0\n",
      "    num_movement_scit1                         list_movement_time_s_scit1  \\\n",
      "0                   34  [99, 56, 62, 89, 51, 115, 178, 285, 22, 108, 1...   \n",
      "1                    0                                                 []   \n",
      "2                   45  [22, 19, 22, 16, 17, 15, 79, 28, 48, 87, 122, ...   \n",
      "3                    0                                                 []   \n",
      "4                   47  [20, 16, 17, 11, 10, 21, 23, 24, 22, 81, 72, 8...   \n",
      "5                    0                                                 []   \n",
      "6                   43  [16, 13, 14, 18, 20, 18, 21, 17, 14, 38, 78, 1...   \n",
      "7                    0                                                 []   \n",
      "8                   40  [14, 9, 10, 15, 18, 14, 19, 13, 10, 36, 76, 8,...   \n",
      "9                    0                                                 []   \n",
      "10                  36  [10, 13, 16, 6, 17, 9, 33, 14, 28, 81, 12, 115...   \n",
      "11                   0                                                 []   \n",
      "12                  30  [6, 11, 13, 15, 30, 9, 26, 68, 110, 68, 13, 10...   \n",
      "13                   0                                                 []   \n",
      "14                  26  [7, 11, 13, 3, 23, 64, 106, 14, 6, 11, 6, 42, ...   \n",
      "15                   0                                                 []   \n",
      "16                  22  [8, 11, 20, 20, 3, 61, 11, 13, 9, 40, 10, 53, ...   \n",
      "17                   0                                                 []   \n",
      "18                  21  [3, 9, 16, 17, 17, 9, 7, 11, 3, 6, 5, 51, 16, ...   \n",
      "19                   0                                                 []   \n",
      "20                  18  [7, 13, 15, 14, 6, 3, 11, 48, 14, 15, 17, 10, ...   \n",
      "21                   0                                                 []   \n",
      "22                  15  [3, 9, 13, 10, 9, 45, 12, 13, 14, 7, 10, 7, 19...   \n",
      "23                   0                                                 []   \n",
      "24                  11             [9, 4, 7, 8, 10, 11, 10, 6, 16, 8, 10]   \n",
      "25                   0                                                 []   \n",
      "26                   8                          [5, 5, 3, 8, 8, 5, 13, 8]   \n",
      "27                   0                                                 []   \n",
      "28                   4                                      [3, 5, 10, 4]   \n",
      "29                   0                                                 []   \n",
      "30                   1                                                [6]   \n",
      "31                   0                                                 []   \n",
      "32                   0                                                 []   \n",
      "33                   0                                                 []   \n",
      "34                   0                                                 []   \n",
      "35                   0                                                 []   \n",
      "36                   0                                                 []   \n",
      "37                   0                                                 []   \n",
      "\n",
      "                              list_start_time_s_scit1  \n",
      "0   [11:40, 11:45, 11:48, 11:52, 11:56, 12:05, 12:...  \n",
      "1                                                  []  \n",
      "2   [11:40, 11:42, 11:45, 11:49, 11:53, 11:57, 12:...  \n",
      "3                                                  []  \n",
      "4   [11:40, 11:42, 11:45, 11:49, 11:54, 12:05, 12:...  \n",
      "5                                                  []  \n",
      "6   [11:40, 11:42, 11:46, 12:05, 12:07, 12:12, 12:...  \n",
      "7                                                  []  \n",
      "8   [11:40, 11:42, 11:46, 12:05, 12:07, 12:12, 12:...  \n",
      "9                                                  []  \n",
      "10  [11:40, 12:06, 12:07, 12:12, 12:14, 12:21, 12:...  \n",
      "11                                                 []  \n",
      "12  [11:40, 12:06, 12:07, 12:14, 12:26, 12:41, 12:...  \n",
      "13                                                 []  \n",
      "14  [12:06, 12:07, 12:14, 12:27, 12:43, 12:51, 13:...  \n",
      "15                                                 []  \n",
      "16  [12:07, 12:15, 12:43, 12:51, 12:53, 13:08, 13:...  \n",
      "17                                                 []  \n",
      "18  [12:08, 12:15, 12:43, 12:51, 13:08, 13:10, 13:...  \n",
      "19                                                 []  \n",
      "20  [12:15, 12:43, 12:51, 13:08, 13:10, 13:11, 13:...  \n",
      "21                                                 []  \n",
      "22  [12:15, 12:43, 12:52, 13:08, 13:15, 13:42, 14:...  \n",
      "23                                                 []  \n",
      "24  [12:52, 13:09, 13:15, 13:43, 14:03, 14:08, 14:...  \n",
      "25                                                 []  \n",
      "26  [12:52, 13:15, 13:43, 14:03, 14:08, 14:22, 16:...  \n",
      "27                                                 []  \n",
      "28                       [14:03, 14:08, 16:13, 16:20]  \n",
      "29                                                 []  \n",
      "30                                            [16:13]  \n",
      "31                                                 []  \n",
      "32                                                 []  \n",
      "33                                                 []  \n",
      "34                                                 []  \n",
      "35                                                 []  \n",
      "36                                                 []  \n",
      "37                                                 []  \n",
      "    num_movement_scit1                         list_movement_time_s_scit1  \\\n",
      "0                   27  [81, 60, 80, 190, 120, 193, 303, 42, 533, 582,...   \n",
      "1                    0                                                 []   \n",
      "2                   33  [14, 27, 22, 5, 96, 30, 7, 97, 113, 95, 240, 1...   \n",
      "3                    0                                                 []   \n",
      "4                   31  [14, 23, 3, 91, 22, 31, 2, 95, 91, 16, 144, 88...   \n",
      "5                    0                                                 []   \n",
      "6                   28  [12, 87, 22, 30, 60, 89, 15, 125, 44, 138, 74,...   \n",
      "7                    0                                                 []   \n",
      "8                   25  [10, 30, 28, 28, 31, 88, 123, 23, 134, 73, 67,...   \n",
      "9                    0                                                 []   \n",
      "10                  25  [25, 24, 8, 29, 25, 12, 99, 130, 71, 2, 11, 13...   \n",
      "11                   0                                                 []   \n",
      "12                  22  [21, 18, 28, 11, 9, 39, 23, 128, 70, 11, 128, ...   \n",
      "13                   0                                                 []   \n",
      "14                  16  [7, 6, 36, 11, 122, 67, 5, 53, 11, 67, 48, 31,...   \n",
      "15                   0                                                 []   \n",
      "16                  13  [28, 10, 109, 23, 2, 16, 11, 63, 38, 31, 14, 2...   \n",
      "17                   0                                                 []   \n",
      "18                   9                [8, 49, 16, 13, 58, 33, 29, 17, 22]   \n",
      "19                   0                                                 []   \n",
      "20                   8                      [5, 19, 5, 52, 31, 26, 15, 8]   \n",
      "21                   0                                                 []   \n",
      "22                   5                               [13, 49, 27, 24, 12]   \n",
      "23                   0                                                 []   \n",
      "24                   5                                [7, 47, 22, 24, 12]   \n",
      "25                   0                                                 []   \n",
      "26                   5                                 [5, 45, 19, 15, 8]   \n",
      "27                   0                                                 []   \n",
      "28                   4                                    [3, 45, 15, 10]   \n",
      "29                   0                                                 []   \n",
      "30                   3                                        [43, 11, 4]   \n",
      "31                   0                                                 []   \n",
      "32                   2                                            [41, 9]   \n",
      "33                   0                                                 []   \n",
      "34                   2                                            [40, 7]   \n",
      "35                   0                                                 []   \n",
      "36                   0                                                 []   \n",
      "37                   0                                                 []   \n",
      "\n",
      "                              list_start_time_s_scit1  \n",
      "0   [11:39, 11:43, 11:46, 11:51, 12:03, 12:09, 12:...  \n",
      "1                                                  []  \n",
      "2   [11:39, 11:41, 11:44, 11:48, 12:04, 12:11, 12:...  \n",
      "3                                                  []  \n",
      "4   [11:39, 11:41, 11:44, 12:04, 12:11, 12:20, 12:...  \n",
      "5                                                  []  \n",
      "6   [11:39, 12:04, 12:11, 12:20, 12:25, 12:40, 12:...  \n",
      "7                                                  []  \n",
      "8   [11:39, 12:04, 12:06, 12:20, 12:25, 12:40, 12:...  \n",
      "9                                                  []  \n",
      "10  [12:04, 12:06, 12:20, 12:25, 12:40, 12:43, 12:...  \n",
      "11                                                 []  \n",
      "12  [12:04, 12:06, 12:25, 12:40, 12:43, 12:50, 12:...  \n",
      "13                                                 []  \n",
      "14  [12:25, 12:43, 12:50, 12:52, 13:07, 13:14, 13:...  \n",
      "15                                                 []  \n",
      "16  [12:50, 12:52, 13:07, 13:14, 13:22, 13:34, 13:...  \n",
      "17                                                 []  \n",
      "18  [12:53, 13:07, 13:10, 13:14, 13:41, 14:02, 14:...  \n",
      "19                                                 []  \n",
      "20  [12:53, 13:07, 13:10, 13:41, 14:02, 14:06, 16:...  \n",
      "21                                                 []  \n",
      "22                [13:07, 13:41, 14:02, 14:07, 16:02]  \n",
      "23                                                 []  \n",
      "24                [13:07, 13:41, 14:02, 14:07, 16:02]  \n",
      "25                                                 []  \n",
      "26                [13:07, 13:41, 14:02, 14:07, 16:02]  \n",
      "27                                                 []  \n",
      "28                       [13:07, 13:41, 14:02, 14:07]  \n",
      "29                                                 []  \n",
      "30                              [13:41, 14:02, 14:07]  \n",
      "31                                                 []  \n",
      "32                                     [13:41, 14:02]  \n",
      "33                                                 []  \n",
      "34                                     [13:41, 14:02]  \n",
      "35                                                 []  \n",
      "36                                                 []  \n",
      "37                                                 []  \n"
     ]
    }
   ],
   "source": [
    "from update_feature_function import extract_json_file\n",
    "import pandas as pd \n",
    "import numpy as np\n",
    "\n",
    "\n",
    "\n",
    "#################################################################\n",
    "### \tinput information\n",
    "#################################################################\n",
    "\n",
    "video_list = ['EJ00004'] # ['JJ00013', 'SB00012']\n",
    "time_list = [[11.6666,16.6666,11.6666,16.6666]] #[[16+ 2/60,21+ 2/60,16+2/60,21+2/60],[16+28/60, 21+28/60, 16+28/60, 21+28/60]]\n",
    "\n",
    "Dv = []\n",
    "Dm = []\n",
    "\n",
    "\n",
    "for i in range(len(video_list)):\n",
    "    video_name = video_list[i]\n",
    "    SCIT_start = time_list[i][0]\n",
    "    SCIT_end = time_list[i][1]\n",
    "    \n",
    "    Xv, Xm = extract_json_file(video_name, SCIT_start, SCIT_end, 20, 20, 30)\n",
    "\n",
    "    Xv = pd.DataFrame(Xv)\n",
    "    Xv.columns = ['num_movement_scit1','list_movement_time_s_scit1', 'list_start_time_s_scit1']\n",
    "#     body_part = [\"Nose\",  \"Neck\"]\n",
    "#                 ,  \"RShoulder\",  \"RElbow\",  \"RWrist\",  \"LShoulder\",  \\\n",
    "#                 \"LElbow\",  \"LWrist\",  \"MidHip\",  \"RHip\", \"RKnee\", \"RAnkle\", \"LHip\", \"LKnee\", \\\n",
    "#                 \"LAnkle\", \"REye\", \"LEye\", \"REar\", \"LEar\", \"LBigToe\", \"LSmallToe\", \"LHeel\", \\\n",
    "#                 \"RBigToe\", \"RSmallToe\", \"RHeel\"]\n",
    "#     Xv.insert(0,'body_part',body_part)\n",
    "    print(Xv)\n",
    "    Dv.append(Xv)\n",
    "\n",
    "    Xm = pd.DataFrame(Xm)\n",
    "    Xm.columns = ['num_movement_scit1','list_movement_time_s_scit1', 'list_start_time_s_scit1']\n",
    "#     body_part = [\"Nose\",  \"Neck\"]\n",
    "#                 ,  \"RShoulder\",  \"RElbow\",  \"RWrist\",  \"LShoulder\",  \\\n",
    "#                 \"LElbow\",  \"LWrist\",  \"MidHip\",  \"RHip\", \"RKnee\", \"RAnkle\", \"LHip\", \"LKnee\", \\\n",
    "#                 \"LAnkle\", \"REye\", \"LEye\", \"REar\", \"LEar\", \"LBigToe\", \"LSmallToe\", \"LHeel\", \\\n",
    "#                 \"RBigToe\", \"RSmallToe\", \"RHeel\"]\n",
    "#     Xm.insert(0,'body_part',body_part)\n",
    "    print(Xm)\n",
    "    Dm.append(Xm)\n"
   ]
  },
  {
   "cell_type": "code",
   "execution_count": 2,
   "metadata": {},
   "outputs": [],
   "source": [
    "Dv = pd.concat(Dv, keys = video_list)\n",
    "Dv['total_movement_time_s_scit1'] = Dv['list_movement_time_s_scit1'].apply(lambda x: np.sum(x))\n",
    "\n",
    "Dm = pd.concat(Dm, keys = video_list)\n",
    "Dm['total_movement_time_s_scit1'] = Dm['list_movement_time_s_scit1'].apply(lambda x: np.sum(x))\n"
   ]
  },
  {
   "cell_type": "code",
   "execution_count": 3,
   "metadata": {},
   "outputs": [],
   "source": [
    "Dv.to_csv('test_v.csv')\n",
    "Dm.to_csv('test_m.csv')"
   ]
  },
  {
   "cell_type": "code",
   "execution_count": 4,
   "metadata": {},
   "outputs": [
    {
     "data": {
      "text/plain": [
       "[[706.6403198,\n",
       "  747.173645,\n",
       "  762.9736328,\n",
       "  815.3736572,\n",
       "  818.506958,\n",
       "  862.1069946,\n",
       "  864.3736572,\n",
       "  879.1069946,\n",
       "  927.4403076,\n",
       "  930.5736694,\n",
       "  973.2402954,\n",
       "  995.506958],\n",
       " [725.1333618,\n",
       "  732.8666382,\n",
       "  742.4333496,\n",
       "  762.4333496,\n",
       "  765.4333496,\n",
       "  771.0999756,\n",
       "  789.9666748,\n",
       "  795.1333618,\n",
       "  814.1333618,\n",
       "  821.4666748,\n",
       "  843.1333618,\n",
       "  862.1333618,\n",
       "  866.0666504,\n",
       "  873.4000244,\n",
       "  877.166687,\n",
       "  891.6333618,\n",
       "  927.9666748,\n",
       "  936.6333618,\n",
       "  964.833313,\n",
       "  973.833313,\n",
       "  990.5,\n",
       "  996.5],\n",
       " [724.4, 743.199, 843.466, 929.532, 995.132],\n",
       " [702.981018066406,\n",
       "  725.495971679688,\n",
       "  732.088012695312,\n",
       "  738.096313476562,\n",
       "  746.221984863281,\n",
       "  761.705017089844,\n",
       "  764.843994140625,\n",
       "  771.7080078125,\n",
       "  781.302978515625,\n",
       "  787.677978515625,\n",
       "  814.247009277344,\n",
       "  822.658996582031,\n",
       "  843.679016113281,\n",
       "  862.377990722656,\n",
       "  866.461975097656,\n",
       "  873.3330078125,\n",
       "  891.682006835938,\n",
       "  927.340026855469,\n",
       "  931.206665039062,\n",
       "  936.817993164062,\n",
       "  963.672973632812,\n",
       "  973.60400390625,\n",
       "  979.681030273438],\n",
       " [702.700012207031,\n",
       "  741.5,\n",
       "  761.700012207031,\n",
       "  765.566650390625,\n",
       "  772.099975585938,\n",
       "  781.633361816406,\n",
       "  819.0,\n",
       "  844.466674804688,\n",
       "  862.333374023438,\n",
       "  930.533386230469,\n",
       "  964.333374023438,\n",
       "  973.333374023438,\n",
       "  979.933349609375,\n",
       "  995.666687011719]]"
      ]
     },
     "execution_count": 4,
     "metadata": {},
     "output_type": "execute_result"
    }
   ],
   "source": [
    "df_h = pd.read_excel('1_clean_data.xlsx', index_col=None, header=None)\n",
    "D_RA = df_h[[1,7,13,19,25]]\n",
    "\n",
    "\n",
    "D_RA\n",
    "import time\n",
    "\n",
    "D_curr = []\n",
    "for i in range(5):\n",
    "    D_h = D_RA[i * 6 +1]\n",
    "    D_h = D_h.dropna()\n",
    "    D_c = D_h.tolist()\n",
    "\n",
    "    j = 0\n",
    "    while j < len(D_c): \n",
    "        for k in range(len(D_c)):\n",
    "            if j != k:\n",
    "                if abs(D_c[j] - D_c[k]) < 2:\n",
    "                    del D_c[j]\n",
    "                    j = j - 1;\n",
    "                    break\n",
    "        j = j + 1\n",
    "\n",
    "    D_curr.append(D_c)\n",
    "D_RA = D_curr\n",
    "D_RA\n",
    "\n",
    "# D_c = []\n",
    "# for i in range(len(D_h)):\n",
    "#     t1 = D_h.iloc[i]\n",
    "#     if isinstance(t1, str):\n",
    "#         t1 = time.strptime(t1.split('.')[0],'%H:%M:%S')\n",
    "#         t1 = t1.tm_min*60 + t1.tm_sec\n",
    "#     else:\n",
    "#         t1 = t1.minute * 60 + t1.second + t1.microsecond / 1000000\n",
    "    \n",
    "#     same = 0\n",
    "    \n",
    "#     for j in range(i+1,len(D_h)):\n",
    "#         t2 = D_h.iloc[j]\n",
    "#         if isinstance(t2, str):\n",
    "#             t2 = time.strptime(t2.split('.')[0],'%H:%M:%S')\n",
    "#             t2 = t2.tm_min*60 + t2.tm_sec\n",
    "#         else:\n",
    "#             t2 = t2.minute * 60 + t2.second + t2.microsecond / 1000000\n",
    "        \n",
    "#         if abs(t2 - t1) < 2:\n",
    "#             same = 1\n",
    "#     if same == 1:\n",
    "#         D_c.append(t1)\n",
    "\n",
    "# D_c2 = [D_c[0]]\n",
    "# for i in range(1,len(D_c)):\n",
    "#     same = 0\n",
    "#     for j in range(len(D_c2)):\n",
    "#         if abs(D_c[i] - D_c2[j]) < 2:\n",
    "#             same = 1\n",
    "#     if same == 0:\n",
    "#         D_c2.append(D_c[i])\n",
    "# len(D_c2)"
   ]
  },
  {
   "cell_type": "code",
   "execution_count": 76,
   "metadata": {},
   "outputs": [
    {
     "name": "stdout",
     "output_type": "stream",
     "text": [
      "[12, 22, 5, 23, 14]\n",
      "[[12, 12, 12, 12, 12, 12, 11, 11, 10, 8, 6, 4, 3, 3, 1, 1, 0, 0, 0], [22, 22, 22, 22, 22, 22, 22, 22, 22, 18, 15, 13, 8, 7, 2, 1, 0, 0, 0], [5, 5, 5, 5, 5, 5, 5, 5, 4, 3, 2, 1, 1, 1, 1, 0, 0, 0, 0], [23, 23, 23, 23, 23, 23, 23, 22, 21, 16, 15, 13, 8, 7, 3, 1, 0, 0, 0], [14, 14, 14, 14, 14, 14, 14, 13, 13, 12, 11, 9, 5, 5, 3, 1, 0, 0, 0]]\n",
      "[[29, 33, 36, 32, 31, 27, 23, 19, 14, 11, 10, 6, 2, 2, 1, 1, 0, 0, 0], [31, 39, 39, 37, 35, 31, 25, 23, 21, 19, 17, 13, 8, 6, 2, 1, 0, 0, 0], [27, 30, 25, 25, 23, 18, 14, 13, 10, 4, 3, 2, 1, 1, 1, 0, 0, 0, 0], [28, 37, 39, 38, 36, 30, 25, 21, 18, 16, 15, 12, 9, 6, 3, 1, 0, 0, 0], [29, 35, 39, 38, 34, 29, 25, 19, 17, 13, 12, 9, 6, 5, 3, 1, 0, 0, 0]]\n"
     ]
    }
   ],
   "source": [
    "count_l_RA = []\n",
    "RA_len = []\n",
    "\n",
    "for num in range(5):\n",
    "    count_l = []\n",
    "    D_c = D_RA[num]\n",
    "    RA_len.append(len(D_c))\n",
    "    for i in range(int(len(Dv.list_start_time_s_scit1) / 2)):\n",
    "        count = 0\n",
    "        t1_list = Dv.list_start_time_s_scit1[i*2]\n",
    "        t1_dur_list = Dv.list_movement_time_s_scit1[i*2]\n",
    "        for k in range(len(D_c)):\n",
    "            for j in range(len(t1_list)):\n",
    "                t1 = time.strptime(t1_list[j],'%M:%S')\n",
    "                t1 = t1.tm_min*60 + t1.tm_sec\n",
    "                d1 = t1_dur_list[j]\n",
    "                if abs(D_c[k] - t1) < 2 or (t1 < D_c[k] and D_c[k] < t1+d1):\n",
    "                    count = count + 1\n",
    "                    break\n",
    "        count_l.append(count)\n",
    "    count_l_RA.append(count_l)\n",
    "\n",
    "\n",
    "count_l_RA_pred = []\n",
    "\n",
    "for num in range(5):\n",
    "    count_l = []\n",
    "    D_c = D_RA[num]\n",
    "    for i in range(int(len(Dv.list_start_time_s_scit1) / 2)):\n",
    "        count = 0\n",
    "        t1_list = Dv.list_start_time_s_scit1[i*2]\n",
    "        t1_dur_list = Dv.list_movement_time_s_scit1[i*2]\n",
    "        for j in range(len(t1_list)):\n",
    "            for k in range(len(D_c)):\n",
    "                t1 = time.strptime(t1_list[j],'%M:%S')\n",
    "                t1 = t1.tm_min*60 + t1.tm_sec\n",
    "                d1 = t1_dur_list[j]\n",
    "                if abs(D_c[k] - t1) < 2 or (t1 < D_c[k] and D_c[k] < t1+d1):\n",
    "                    count = count + 1\n",
    "                    break\n",
    "        count_l.append(count)\n",
    "    count_l_RA_pred.append(count_l)\n",
    "    \n",
    "print(RA_len)\n",
    "print(count_l_RA)\n",
    "print(count_l_RA_pred)"
   ]
  },
  {
   "cell_type": "code",
   "execution_count": 77,
   "metadata": {},
   "outputs": [
    {
     "data": {
      "text/plain": [
       "[array([1.        , 1.        , 1.        , 1.        , 1.        ,\n",
       "        1.        , 0.91666667, 0.91666667, 0.83333333, 0.66666667,\n",
       "        0.5       , 0.33333333, 0.25      , 0.25      , 0.08333333,\n",
       "        0.08333333, 0.        , 0.        , 0.        ]),\n",
       " array([1.        , 1.        , 1.        , 1.        , 1.        ,\n",
       "        1.        , 1.        , 1.        , 1.        , 0.81818182,\n",
       "        0.68181818, 0.59090909, 0.36363636, 0.31818182, 0.09090909,\n",
       "        0.04545455, 0.        , 0.        , 0.        ]),\n",
       " array([1. , 1. , 1. , 1. , 1. , 1. , 1. , 1. , 0.8, 0.6, 0.4, 0.2, 0.2,\n",
       "        0.2, 0.2, 0. , 0. , 0. , 0. ]),\n",
       " array([1.        , 1.        , 1.        , 1.        , 1.        ,\n",
       "        1.        , 1.        , 0.95652174, 0.91304348, 0.69565217,\n",
       "        0.65217391, 0.56521739, 0.34782609, 0.30434783, 0.13043478,\n",
       "        0.04347826, 0.        , 0.        , 0.        ]),\n",
       " array([1.        , 1.        , 1.        , 1.        , 1.        ,\n",
       "        1.        , 1.        , 0.92857143, 0.92857143, 0.85714286,\n",
       "        0.78571429, 0.64285714, 0.35714286, 0.35714286, 0.21428571,\n",
       "        0.07142857, 0.        , 0.        , 0.        ])]"
      ]
     },
     "execution_count": 77,
     "metadata": {},
     "output_type": "execute_result"
    }
   ],
   "source": [
    "recall = []\n",
    "for i in range(len(RA_len)):\n",
    "    recall.append(np.array(count_l_RA[i]) / RA_len[i])\n",
    "recall"
   ]
  },
  {
   "cell_type": "code",
   "execution_count": 78,
   "metadata": {},
   "outputs": [
    {
     "data": {
      "text/plain": [
       "[<matplotlib.lines.Line2D at 0xe73c90>,\n",
       " <matplotlib.lines.Line2D at 0xe73db0>,\n",
       " <matplotlib.lines.Line2D at 0xe73e70>,\n",
       " <matplotlib.lines.Line2D at 0xe73f30>,\n",
       " <matplotlib.lines.Line2D at 0xe73ff0>]"
      ]
     },
     "execution_count": 78,
     "metadata": {},
     "output_type": "execute_result"
    },
    {
     "data": {
      "image/png": "[encoded data removed]",
      "text/plain": [
       "<Figure size 432x288 with 1 Axes>"
      ]
     },
     "metadata": {
      "needs_background": "light"
     },
     "output_type": "display_data"
    }
   ],
   "source": [
    "import matplotlib.pyplot as plt\n",
    "plt.plot(np.array(recall).T, np.arange(0,19))"
   ]
  },
  {
   "cell_type": "code",
   "execution_count": 79,
   "metadata": {},
   "outputs": [],
   "source": [
    "preci = []\n",
    "for i in range(len(RA_len)):\n",
    "    preci.append(count_l_RA_pred[i] / Dv.num_movement_scit1[0::2])"
   ]
  },
  {
   "cell_type": "code",
   "execution_count": 80,
   "metadata": {},
   "outputs": [
    {
     "data": {
      "text/plain": [
       "0.7949999999999999"
      ]
     },
     "execution_count": 80,
     "metadata": {},
     "output_type": "execute_result"
    }
   ],
   "source": [
    "np.array(preci)[:,4].mean()"
   ]
  },
  {
   "cell_type": "code",
   "execution_count": 81,
   "metadata": {},
   "outputs": [
    {
     "data": {
      "text/plain": [
       "[<matplotlib.lines.Line2D at 0xeb7d30>,\n",
       " <matplotlib.lines.Line2D at 0xeb7e10>,\n",
       " <matplotlib.lines.Line2D at 0xeb7ed0>,\n",
       " <matplotlib.lines.Line2D at 0xeb7f90>,\n",
       " <matplotlib.lines.Line2D at 0xec2070>]"
      ]
     },
     "execution_count": 81,
     "metadata": {},
     "output_type": "execute_result"
    },
    {
     "data": {
      "image/png": "[encoded data removed]",
      "text/plain": [
       "<Figure size 432x288 with 1 Axes>"
      ]
     },
     "metadata": {
      "needs_background": "light"
     },
     "output_type": "display_data"
    }
   ],
   "source": [
    "plt.plot(np.array(preci).T, np.arange(0,19))"
   ]
  },
  {
   "cell_type": "code",
   "execution_count": 82,
   "metadata": {},
   "outputs": [
    {
     "data": {
      "text/plain": [
       "[<matplotlib.lines.Line2D at 0xefcc30>,\n",
       " <matplotlib.lines.Line2D at 0xefcd10>,\n",
       " <matplotlib.lines.Line2D at 0xefcdd0>,\n",
       " <matplotlib.lines.Line2D at 0xefce90>,\n",
       " <matplotlib.lines.Line2D at 0xefcf50>]"
      ]
     },
     "execution_count": 82,
     "metadata": {},
     "output_type": "execute_result"
    },
    {
     "data": {
      "image/png": "[encoded data removed]",
      "text/plain": [
       "<Figure size 432x288 with 1 Axes>"
      ]
     },
     "metadata": {
      "needs_background": "light"
     },
     "output_type": "display_data"
    }
   ],
   "source": [
    "plt.plot(np.array(recall).T, np.array(preci).T)"
   ]
  },
  {
   "cell_type": "code",
   "execution_count": 83,
   "metadata": {},
   "outputs": [
    {
     "name": "stdout",
     "output_type": "stream",
     "text": [
      "[12, 22, 5, 23, 14]\n",
      "[[12, 12, 12, 12, 12, 11, 11, 11, 8, 5, 3, 3, 3, 2, 2, 1, 0, 0, 0], [22, 22, 22, 22, 22, 22, 22, 19, 16, 12, 9, 8, 7, 5, 4, 3, 2, 2, 0], [5, 5, 5, 5, 5, 5, 5, 4, 2, 1, 1, 1, 1, 1, 1, 1, 1, 1, 0], [23, 23, 23, 23, 23, 22, 22, 19, 16, 11, 8, 7, 7, 5, 4, 3, 2, 2, 0], [14, 14, 14, 14, 14, 13, 13, 12, 9, 7, 5, 4, 4, 3, 2, 2, 1, 1, 0]]\n",
      "[[25, 29, 29, 27, 24, 23, 17, 13, 10, 6, 5, 4, 4, 1, 1, 1, 0, 0, 0], [27, 30, 28, 27, 24, 23, 21, 14, 12, 9, 8, 5, 5, 4, 3, 2, 2, 2, 0], [23, 25, 22, 20, 19, 18, 13, 9, 4, 2, 2, 2, 2, 2, 2, 2, 2, 2, 0], [23, 28, 28, 26, 24, 22, 20, 15, 12, 7, 7, 5, 5, 4, 3, 2, 2, 2, 0], [26, 28, 30, 27, 24, 23, 20, 14, 11, 7, 6, 4, 4, 3, 2, 2, 2, 2, 0]]\n"
     ]
    }
   ],
   "source": [
    "count_l_RA = []\n",
    "RA_len = []\n",
    "\n",
    "for num in range(5):\n",
    "    count_l = []\n",
    "    D_c = D_RA[num]\n",
    "    RA_len.append(len(D_c))\n",
    "    for i in range(int(len(Dm.list_start_time_s_scit1) / 2)):\n",
    "        count = 0\n",
    "        t1_list = Dm.list_start_time_s_scit1[i*2]\n",
    "        t1_dur_list = Dm.list_movement_time_s_scit1[i*2]\n",
    "        for k in range(len(D_c)):\n",
    "            for j in range(len(t1_list)):\n",
    "                t1 = time.strptime(t1_list[j],'%M:%S')\n",
    "                t1 = t1.tm_min*60 + t1.tm_sec\n",
    "                d1 = t1_dur_list[j]\n",
    "                if abs(D_c[k] - t1) < 2 or (t1 < D_c[k] and D_c[k] < t1+d1):\n",
    "                    count = count + 1\n",
    "                    break\n",
    "        count_l.append(count)\n",
    "    count_l_RA.append(count_l)\n",
    "\n",
    "count_l_RA_pred = []\n",
    "\n",
    "for num in range(5):\n",
    "    count_l = []\n",
    "    D_c = D_RA[num]\n",
    "    for i in range(int(len(Dm.list_start_time_s_scit1) / 2)):\n",
    "        count = 0\n",
    "        t1_list = Dm.list_start_time_s_scit1[i*2]\n",
    "        t1_dur_list = Dm.list_movement_time_s_scit1[i*2]\n",
    "        for j in range(len(t1_list)):\n",
    "            for k in range(len(D_c)):\n",
    "                t1 = time.strptime(t1_list[j],'%M:%S')\n",
    "                t1 = t1.tm_min*60 + t1.tm_sec\n",
    "                d1 = t1_dur_list[j]\n",
    "                if abs(D_c[k] - t1) < 2 or (t1 < D_c[k] and D_c[k] < t1+d1):\n",
    "                    count = count + 1\n",
    "                    break\n",
    "        count_l.append(count)\n",
    "    count_l_RA_pred.append(count_l)\n",
    "    \n",
    "print(RA_len)\n",
    "print(count_l_RA)\n",
    "print(count_l_RA_pred)"
   ]
  },
  {
   "cell_type": "code",
   "execution_count": 84,
   "metadata": {},
   "outputs": [
    {
     "data": {
      "text/plain": [
       "[array([1.        , 1.        , 1.        , 1.        , 1.        ,\n",
       "        0.91666667, 0.91666667, 0.91666667, 0.66666667, 0.41666667,\n",
       "        0.25      , 0.25      , 0.25      , 0.16666667, 0.16666667,\n",
       "        0.08333333, 0.        , 0.        , 0.        ]),\n",
       " array([1.        , 1.        , 1.        , 1.        , 1.        ,\n",
       "        1.        , 1.        , 0.86363636, 0.72727273, 0.54545455,\n",
       "        0.40909091, 0.36363636, 0.31818182, 0.22727273, 0.18181818,\n",
       "        0.13636364, 0.09090909, 0.09090909, 0.        ]),\n",
       " array([1. , 1. , 1. , 1. , 1. , 1. , 1. , 0.8, 0.4, 0.2, 0.2, 0.2, 0.2,\n",
       "        0.2, 0.2, 0.2, 0.2, 0.2, 0. ]),\n",
       " array([1.        , 1.        , 1.        , 1.        , 1.        ,\n",
       "        0.95652174, 0.95652174, 0.82608696, 0.69565217, 0.47826087,\n",
       "        0.34782609, 0.30434783, 0.30434783, 0.2173913 , 0.17391304,\n",
       "        0.13043478, 0.08695652, 0.08695652, 0.        ]),\n",
       " array([1.        , 1.        , 1.        , 1.        , 1.        ,\n",
       "        0.92857143, 0.92857143, 0.85714286, 0.64285714, 0.5       ,\n",
       "        0.35714286, 0.28571429, 0.28571429, 0.21428571, 0.14285714,\n",
       "        0.14285714, 0.07142857, 0.07142857, 0.        ])]"
      ]
     },
     "execution_count": 84,
     "metadata": {},
     "output_type": "execute_result"
    }
   ],
   "source": [
    "recall = []\n",
    "for i in range(len(RA_len)):\n",
    "    recall.append(np.array(count_l_RA[i]) / RA_len[i])\n",
    "recall"
   ]
  },
  {
   "cell_type": "code",
   "execution_count": 85,
   "metadata": {},
   "outputs": [
    {
     "data": {
      "text/plain": [
       "[<matplotlib.lines.Line2D at 0xf475b0>,\n",
       " <matplotlib.lines.Line2D at 0xf47690>,\n",
       " <matplotlib.lines.Line2D at 0xf47750>,\n",
       " <matplotlib.lines.Line2D at 0xf47810>,\n",
       " <matplotlib.lines.Line2D at 0xf478d0>]"
      ]
     },
     "execution_count": 85,
     "metadata": {},
     "output_type": "execute_result"
    },
    {
     "data": {
      "image/png": "[encoded data removed]",
      "text/plain": [
       "<Figure size 432x288 with 1 Axes>"
      ]
     },
     "metadata": {
      "needs_background": "light"
     },
     "output_type": "display_data"
    }
   ],
   "source": [
    "plt.plot(np.array(recall).T, np.arange(0,19))"
   ]
  },
  {
   "cell_type": "code",
   "execution_count": 86,
   "metadata": {},
   "outputs": [],
   "source": [
    "preci = []\n",
    "for i in range(len(RA_len)):\n",
    "    preci.append(count_l_RA_pred[i] / Dm.num_movement_scit1[0::2])"
   ]
  },
  {
   "cell_type": "code",
   "execution_count": 87,
   "metadata": {},
   "outputs": [
    {
     "data": {
      "text/plain": [
       "0.9199999999999999"
      ]
     },
     "execution_count": 87,
     "metadata": {},
     "output_type": "execute_result"
    }
   ],
   "source": [
    "np.array(preci)[:,4].mean()"
   ]
  },
  {
   "cell_type": "code",
   "execution_count": 88,
   "metadata": {},
   "outputs": [
    {
     "data": {
      "text/plain": [
       "[<matplotlib.lines.Line2D at 0xf8e5d0>,\n",
       " <matplotlib.lines.Line2D at 0xf8e6f0>,\n",
       " <matplotlib.lines.Line2D at 0xf8e7b0>,\n",
       " <matplotlib.lines.Line2D at 0xf8e870>,\n",
       " <matplotlib.lines.Line2D at 0xf8e930>]"
      ]
     },
     "execution_count": 88,
     "metadata": {},
     "output_type": "execute_result"
    },
    {
     "data": {
      "image/png": "[encoded data removed]",
      "text/plain": [
       "<Figure size 432x288 with 1 Axes>"
      ]
     },
     "metadata": {
      "needs_background": "light"
     },
     "output_type": "display_data"
    }
   ],
   "source": [
    "plt.plot(np.array(preci).T, np.arange(0,19))"
   ]
  },
  {
   "cell_type": "code",
   "execution_count": 89,
   "metadata": {},
   "outputs": [
    {
     "data": {
      "text/plain": [
       "[<matplotlib.lines.Line2D at 0xfd16b0>,\n",
       " <matplotlib.lines.Line2D at 0xfd1790>,\n",
       " <matplotlib.lines.Line2D at 0xfd1850>,\n",
       " <matplotlib.lines.Line2D at 0xfd1910>,\n",
       " <matplotlib.lines.Line2D at 0xfd19d0>]"
      ]
     },
     "execution_count": 89,
     "metadata": {},
     "output_type": "execute_result"
    },
    {
     "data": {
      "image/png": "[encoded data removed]",
      "text/plain": [
       "<Figure size 432x288 with 1 Axes>"
      ]
     },
     "metadata": {
      "needs_background": "light"
     },
     "output_type": "display_data"
    }
   ],
   "source": [
    "plt.plot(np.array(recall).T, np.array(preci).T)"
   ]
  },
  {
   "cell_type": "code",
   "execution_count": 90,
   "metadata": {},
   "outputs": [],
   "source": [
    "outv = Dv.iloc[0::2]\n",
    "outv.to_csv('outv.csv')"
   ]
  },
  {
   "cell_type": "code",
   "execution_count": 19,
   "metadata": {},
   "outputs": [],
   "source": [
    "outm = Dm.iloc[0::2]\n",
    "outm.to_csv('outm.csv')"
   ]
  },
  {
   "cell_type": "code",
   "execution_count": null,
   "metadata": {},
   "outputs": [],
   "source": []
  }
 ],
 "metadata": {
  "kernelspec": {
   "display_name": "Python 3",
   "language": "python",
   "name": "python3"
  },
  "language_info": {
   "codemirror_mode": {
    "name": "ipython",
    "version": 3
   },
   "file_extension": ".py",
   "mimetype": "text/x-python",
   "name": "python",
   "nbconvert_exporter": "python",
   "pygments_lexer": "ipython3",
   "version": "3.7.4"
  }
 },
 "nbformat": 4,
 "nbformat_minor": 2
}
