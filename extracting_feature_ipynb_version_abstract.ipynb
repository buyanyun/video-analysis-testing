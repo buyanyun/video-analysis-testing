{
 "cells": [
  {
   "cell_type": "markdown",
   "metadata": {},
   "source": [
    "### Extracting the number of movement and time in SCIT1 and SCIT2"
   ]
  },
  {
   "cell_type": "code",
   "execution_count": 84,
   "metadata": {
    "scrolled": true
   },
   "outputs": [
    {
     "name": "stdout",
     "output_type": "stream",
     "text": [
      "starting extract DL00006 JSON files...\n",
      "DL00006Number of movement based on velocity(threshold_v =  0.0625 ):\n",
      "8\n",
      "12\n",
      "DL00006Number of movement based on velocity(threshold_v =  0.125 ):\n",
      "12\n",
      "17\n",
      "DL00006Number of movement based on velocity(threshold_v =  0.1875 ):\n",
      "20\n",
      "22\n",
      "DL00006Number of movement based on velocity(threshold_v =  0.25 ):\n",
      "26\n",
      "26\n",
      "DL00006Number of movement based on velocity(threshold_v =  0.3125 ):\n",
      "27\n",
      "26\n",
      "DL00006Number of movement based on velocity(threshold_v =  0.375 ):\n",
      "24\n",
      "24\n",
      "DL00006Number of movement based on velocity(threshold_v =  0.4375 ):\n",
      "20\n",
      "24\n",
      "DL00006Number of movement based on velocity(threshold_v =  0.5 ):\n",
      "20\n",
      "17\n",
      "DL00006Number of movement based on velocity(threshold_v =  0.5625 ):\n",
      "16\n",
      "6\n",
      "DL00006Number of movement based on velocity(threshold_v =  0.625 ):\n",
      "12\n",
      "5\n",
      "DL00006Number of movement based on velocity(threshold_v =  0.6875 ):\n",
      "7\n",
      "2\n",
      "DL00006Number of movement based on velocity(threshold_v =  0.75 ):\n",
      "7\n",
      "1\n",
      "DL00006Number of movement based on velocity(threshold_v =  0.8125 ):\n",
      "3\n",
      "0\n",
      "DL00006Number of movement based on velocity(threshold_v =  0.875 ):\n",
      "2\n",
      "0\n",
      "DL00006Number of movement based on velocity(threshold_v =  0.9375 ):\n",
      "1\n",
      "0\n",
      "DL00006Number of movement based on velocity(threshold_v =  1.0 ):\n",
      "0\n",
      "0\n",
      "DL00006Number of movement based on velocity(threshold_v =  1.0625 ):\n",
      "0\n",
      "0\n",
      "DL00006Number of movement based on velocity(threshold_v =  1.125 ):\n",
      "0\n",
      "0\n",
      "DL00006Number of movement based on velocity(threshold_v =  1.1875 ):\n",
      "0\n",
      "0\n",
      "DL00006Number of movement based on velocity2(threshold_v =  0.125 ):\n",
      "12\n",
      "14\n",
      "DL00006Number of movement based on velocity2(threshold_v =  0.25 ):\n",
      "12\n",
      "14\n",
      "DL00006Number of movement based on velocity2(threshold_v =  0.375 ):\n",
      "12\n",
      "14\n",
      "DL00006Number of movement based on velocity2(threshold_v =  0.5 ):\n",
      "12\n",
      "14\n",
      "DL00006Number of movement based on velocity2(threshold_v =  0.625 ):\n",
      "12\n",
      "14\n",
      "DL00006Number of movement based on velocity2(threshold_v =  0.75 ):\n",
      "25\n",
      "28\n",
      "DL00006Number of movement based on velocity2(threshold_v =  0.875 ):\n",
      "24\n"
     ]
    },
    {
     "ename": "KeyboardInterrupt",
     "evalue": "",
     "output_type": "error",
     "traceback": [
      "\u001b[1;31m---------------------------------------------------------------------------\u001b[0m",
      "\u001b[1;31mKeyboardInterrupt\u001b[0m                         Traceback (most recent call last)",
      "\u001b[1;32m<ipython-input-84-8ad723c91664>\u001b[0m in \u001b[0;36m<module>\u001b[1;34m\u001b[0m\n\u001b[0;32m     22\u001b[0m     \u001b[0mSCIT_end\u001b[0m \u001b[1;33m=\u001b[0m \u001b[0mtime_list\u001b[0m\u001b[1;33m[\u001b[0m\u001b[0mi\u001b[0m\u001b[1;33m]\u001b[0m\u001b[1;33m[\u001b[0m\u001b[1;36m1\u001b[0m\u001b[1;33m]\u001b[0m\u001b[1;33m\u001b[0m\u001b[1;33m\u001b[0m\u001b[0m\n\u001b[0;32m     23\u001b[0m \u001b[1;33m\u001b[0m\u001b[0m\n\u001b[1;32m---> 24\u001b[1;33m     \u001b[0mXv\u001b[0m\u001b[1;33m,\u001b[0m \u001b[0mXv2\u001b[0m\u001b[1;33m,\u001b[0m \u001b[0mXm\u001b[0m \u001b[1;33m=\u001b[0m \u001b[0mextract_json_file\u001b[0m\u001b[1;33m(\u001b[0m\u001b[0mvideo_name\u001b[0m\u001b[1;33m,\u001b[0m \u001b[0mSCIT_start\u001b[0m\u001b[1;33m,\u001b[0m \u001b[0mSCIT_end\u001b[0m\u001b[1;33m,\u001b[0m \u001b[1;36m20\u001b[0m\u001b[1;33m,\u001b[0m \u001b[1;36m20\u001b[0m\u001b[1;33m,\u001b[0m \u001b[1;36m100\u001b[0m\u001b[1;33m)\u001b[0m\u001b[1;33m\u001b[0m\u001b[1;33m\u001b[0m\u001b[0m\n\u001b[0m\u001b[0;32m     25\u001b[0m \u001b[1;33m\u001b[0m\u001b[0m\n\u001b[0;32m     26\u001b[0m     \u001b[0mXv\u001b[0m \u001b[1;33m=\u001b[0m \u001b[0mpd\u001b[0m\u001b[1;33m.\u001b[0m\u001b[0mDataFrame\u001b[0m\u001b[1;33m(\u001b[0m\u001b[0mXv\u001b[0m\u001b[1;33m)\u001b[0m\u001b[1;33m\u001b[0m\u001b[1;33m\u001b[0m\u001b[0m\n",
      "\u001b[1;32m~\\Desktop\\video-analysis-testing\\update_feature_function.py\u001b[0m in \u001b[0;36mextract_json_file\u001b[1;34m(video_name, SCIT_start, SCIT_end, threshold_v, threshold_m, time_t)\u001b[0m\n\u001b[0;32m    291\u001b[0m \u001b[1;33m\u001b[0m\u001b[0m\n\u001b[0;32m    292\u001b[0m                 \u001b[1;32mfor\u001b[0m \u001b[0mi\u001b[0m \u001b[1;32min\u001b[0m \u001b[1;33m[\u001b[0m\u001b[1;36m3\u001b[0m\u001b[1;33m,\u001b[0m\u001b[1;36m6\u001b[0m\u001b[1;33m]\u001b[0m\u001b[1;33m:\u001b[0m\u001b[1;33m\u001b[0m\u001b[1;33m\u001b[0m\u001b[0m\n\u001b[1;32m--> 293\u001b[1;33m                         \u001b[0mV\u001b[0m \u001b[1;33m=\u001b[0m \u001b[0mnum_movement_velocity2\u001b[0m\u001b[1;33m(\u001b[0m\u001b[0mi\u001b[0m\u001b[1;33m,\u001b[0m \u001b[0mvideo_data\u001b[0m\u001b[1;33m,\u001b[0m \u001b[0mSCIT_start\u001b[0m\u001b[1;33m,\u001b[0m \u001b[0mSCIT_end\u001b[0m\u001b[1;33m,\u001b[0m \u001b[0mj\u001b[0m\u001b[1;33m/\u001b[0m\u001b[1;36m8\u001b[0m\u001b[1;33m,\u001b[0m \u001b[0mtime_t\u001b[0m\u001b[1;33m)\u001b[0m\u001b[1;33m\u001b[0m\u001b[1;33m\u001b[0m\u001b[0m\n\u001b[0m\u001b[0;32m    294\u001b[0m                         \u001b[0mX_v2\u001b[0m\u001b[1;33m.\u001b[0m\u001b[0mappend\u001b[0m\u001b[1;33m(\u001b[0m\u001b[0mV\u001b[0m\u001b[1;33m[\u001b[0m\u001b[1;36m0\u001b[0m\u001b[1;33m:\u001b[0m\u001b[1;36m3\u001b[0m\u001b[1;33m]\u001b[0m\u001b[1;33m)\u001b[0m\u001b[1;33m\u001b[0m\u001b[1;33m\u001b[0m\u001b[0m\n\u001b[0;32m    295\u001b[0m                         \u001b[0mprint\u001b[0m\u001b[1;33m(\u001b[0m\u001b[0mV\u001b[0m\u001b[1;33m[\u001b[0m\u001b[1;36m0\u001b[0m\u001b[1;33m]\u001b[0m\u001b[1;33m)\u001b[0m\u001b[1;33m\u001b[0m\u001b[1;33m\u001b[0m\u001b[0m\n",
      "\u001b[1;32m~\\Desktop\\video-analysis-testing\\update_feature_function.py\u001b[0m in \u001b[0;36mnum_movement_velocity2\u001b[1;34m(part_num, video_data, start, end, noisy_t, time_t)\u001b[0m\n\u001b[0;32m    226\u001b[0m         \u001b[1;32mif\u001b[0m \u001b[0mpart_num\u001b[0m \u001b[1;33m!=\u001b[0m \u001b[1;36m1\u001b[0m \u001b[1;32mor\u001b[0m \u001b[0mpart_num\u001b[0m \u001b[1;33m!=\u001b[0m \u001b[1;36m8\u001b[0m\u001b[1;33m:\u001b[0m\u001b[1;33m\u001b[0m\u001b[1;33m\u001b[0m\u001b[0m\n\u001b[0;32m    227\u001b[0m                 \u001b[1;32mif\u001b[0m \u001b[0mpart_num\u001b[0m \u001b[1;33m<\u001b[0m \u001b[1;36m8\u001b[0m \u001b[1;32mor\u001b[0m \u001b[1;33m(\u001b[0m\u001b[0mpart_num\u001b[0m \u001b[1;33m>\u001b[0m \u001b[1;36m14\u001b[0m \u001b[1;32mand\u001b[0m \u001b[0mpart_num\u001b[0m \u001b[1;33m<\u001b[0m \u001b[1;36m19\u001b[0m\u001b[1;33m)\u001b[0m\u001b[1;33m:\u001b[0m\u001b[1;33m\u001b[0m\u001b[1;33m\u001b[0m\u001b[0m\n\u001b[1;32m--> 228\u001b[1;33m                         \u001b[0mI\u001b[0m \u001b[1;33m=\u001b[0m \u001b[0mextract_velocity2\u001b[0m\u001b[1;33m(\u001b[0m\u001b[1;36m1\u001b[0m\u001b[1;33m,\u001b[0m \u001b[0mvideo_data\u001b[0m\u001b[1;33m,\u001b[0m \u001b[0mstart\u001b[0m\u001b[1;33m,\u001b[0m \u001b[0mend\u001b[0m\u001b[1;33m)\u001b[0m\u001b[1;33m\u001b[0m\u001b[1;33m\u001b[0m\u001b[0m\n\u001b[0m\u001b[0;32m    229\u001b[0m                         \u001b[0mV\u001b[0m \u001b[1;33m=\u001b[0m \u001b[0mabs\u001b[0m\u001b[1;33m(\u001b[0m\u001b[0mnp\u001b[0m\u001b[1;33m.\u001b[0m\u001b[0msubtract\u001b[0m\u001b[1;33m(\u001b[0m\u001b[0mV\u001b[0m\u001b[1;33m,\u001b[0m\u001b[0mI\u001b[0m\u001b[1;33m)\u001b[0m\u001b[1;33m)\u001b[0m\u001b[1;33m\u001b[0m\u001b[1;33m\u001b[0m\u001b[0m\n\u001b[0;32m    230\u001b[0m                 \u001b[1;32melse\u001b[0m\u001b[1;33m:\u001b[0m\u001b[1;33m\u001b[0m\u001b[1;33m\u001b[0m\u001b[0m\n",
      "\u001b[1;32m~\\Desktop\\video-analysis-testing\\update_feature_function.py\u001b[0m in \u001b[0;36mextract_velocity2\u001b[1;34m(part_num, video_data, start_t, end_t)\u001b[0m\n\u001b[0;32m    105\u001b[0m                 \u001b[1;32mfor\u001b[0m \u001b[0mi\u001b[0m \u001b[1;32min\u001b[0m \u001b[0mrange\u001b[0m\u001b[1;33m(\u001b[0m\u001b[0mstart_f\u001b[0m\u001b[1;33m,\u001b[0m \u001b[0mend_f\u001b[0m\u001b[1;33m)\u001b[0m\u001b[1;33m:\u001b[0m\u001b[1;33m\u001b[0m\u001b[1;33m\u001b[0m\u001b[0m\n\u001b[0;32m    106\u001b[0m \u001b[1;33m\u001b[0m\u001b[0m\n\u001b[1;32m--> 107\u001b[1;33m                         \u001b[1;32mif\u001b[0m \u001b[0mnp\u001b[0m\u001b[1;33m.\u001b[0m\u001b[0msum\u001b[0m\u001b[1;33m(\u001b[0m\u001b[0mcurr_D\u001b[0m\u001b[1;33m[\u001b[0m\u001b[0mi\u001b[0m\u001b[1;33m:\u001b[0m\u001b[0mi\u001b[0m\u001b[1;33m+\u001b[0m\u001b[1;36m5\u001b[0m\u001b[1;33m]\u001b[0m \u001b[1;33m==\u001b[0m \u001b[1;36m0\u001b[0m\u001b[1;33m)\u001b[0m \u001b[1;33m!=\u001b[0m \u001b[1;36m0\u001b[0m\u001b[1;33m:\u001b[0m\u001b[1;33m\u001b[0m\u001b[1;33m\u001b[0m\u001b[0m\n\u001b[0m\u001b[0;32m    108\u001b[0m                                 \u001b[0mvelocity\u001b[0m \u001b[1;33m=\u001b[0m \u001b[1;36m0\u001b[0m\u001b[1;33m\u001b[0m\u001b[1;33m\u001b[0m\u001b[0m\n\u001b[0;32m    109\u001b[0m                         \u001b[1;32melse\u001b[0m\u001b[1;33m:\u001b[0m\u001b[1;33m\u001b[0m\u001b[1;33m\u001b[0m\u001b[0m\n",
      "\u001b[1;32mc:\\users\\bu yanyun\\appdata\\local\\programs\\python\\python37\\lib\\site-packages\\numpy\\core\\fromnumeric.py\u001b[0m in \u001b[0;36msum\u001b[1;34m(a, axis, dtype, out, keepdims, initial)\u001b[0m\n\u001b[0;32m   2074\u001b[0m \u001b[1;33m\u001b[0m\u001b[0m\n\u001b[0;32m   2075\u001b[0m     return _wrapreduction(a, np.add, 'sum', axis, dtype, out, keepdims=keepdims,\n\u001b[1;32m-> 2076\u001b[1;33m                           initial=initial)\n\u001b[0m\u001b[0;32m   2077\u001b[0m \u001b[1;33m\u001b[0m\u001b[0m\n\u001b[0;32m   2078\u001b[0m \u001b[1;33m\u001b[0m\u001b[0m\n",
      "\u001b[1;31mKeyboardInterrupt\u001b[0m: "
     ]
    }
   ],
   "source": [
    "from update_feature_function import extract_json_file\n",
    "import pandas as pd \n",
    "import numpy as np\n",
    "\n",
    "\n",
    "\n",
    "#################################################################\n",
    "### \tinput information\n",
    "#################################################################\n",
    "\n",
    "video_list = ['DL00006', 'DS00005', 'EJ00004', 'LS00003', 'MSC00011']\n",
    "time_list = [[16 + 5/6, 21+5/6], [15.5,20.5],[11.6666,16.6666], [11,16], [11,16]]\n",
    "\n",
    "Dv = []\n",
    "Dv2 = []\n",
    "Dm = []\n",
    "\n",
    "\n",
    "for i in range(len(video_list)):\n",
    "    video_name = video_list[i]\n",
    "    SCIT_start = time_list[i][0]\n",
    "    SCIT_end = time_list[i][1]\n",
    "    \n",
    "    Xv, Xv2, Xm = extract_json_file(video_name, SCIT_start, SCIT_end, 20, 20, 100)\n",
    "\n",
    "    Xv = pd.DataFrame(Xv)\n",
    "    Xv.columns = ['num_movement_scit1','list_movement_time_s_scit1', 'list_start_time_s_scit1']\n",
    "#     body_part = [\"Nose\",  \"Neck\"]\n",
    "#                 ,  \"RShoulder\",  \"RElbow\",  \"RWrist\",  \"LShoulder\",  \\\n",
    "#                 \"LElbow\",  \"LWrist\",  \"MidHip\",  \"RHip\", \"RKnee\", \"RAnkle\", \"LHip\", \"LKnee\", \\\n",
    "#                 \"LAnkle\", \"REye\", \"LEye\", \"REar\", \"LEar\", \"LBigToe\", \"LSmallToe\", \"LHeel\", \\\n",
    "#                 \"RBigToe\", \"RSmallToe\", \"RHeel\"]\n",
    "#     Xv.insert(0,'body_part',body_part)\n",
    "    print(Xv)\n",
    "    Dv.append(Xv)\n",
    "    \n",
    "    Xv2 = pd.DataFrame(Xv2)\n",
    "    Xv2.columns = ['num_movement_scit1','list_movement_time_s_scit1', 'list_start_time_s_scit1']\n",
    "#     body_part = [\"Nose\",  \"Neck\"]\n",
    "#                 ,  \"RShoulder\",  \"RElbow\",  \"RWrist\",  \"LShoulder\",  \\\n",
    "#                 \"LElbow\",  \"LWrist\",  \"MidHip\",  \"RHip\", \"RKnee\", \"RAnkle\", \"LHip\", \"LKnee\", \\\n",
    "#                 \"LAnkle\", \"REye\", \"LEye\", \"REar\", \"LEar\", \"LBigToe\", \"LSmallToe\", \"LHeel\", \\\n",
    "#                 \"RBigToe\", \"RSmallToe\", \"RHeel\"]\n",
    "#     Xv.insert(0,'body_part',body_part)\n",
    "    print(Xv2)\n",
    "    Dv2.append(Xv2)\n",
    "\n",
    "    Xm = pd.DataFrame(Xm)\n",
    "    Xm.columns = ['num_movement_scit1','list_movement_time_s_scit1', 'list_start_time_s_scit1']\n",
    "#     body_part = [\"Nose\",  \"Neck\"]\n",
    "#                 ,  \"RShoulder\",  \"RElbow\",  \"RWrist\",  \"LShoulder\",  \\\n",
    "#                 \"LElbow\",  \"LWrist\",  \"MidHip\",  \"RHip\", \"RKnee\", \"RAnkle\", \"LHip\", \"LKnee\", \\\n",
    "#                 \"LAnkle\", \"REye\", \"LEye\", \"REar\", \"LEar\", \"LBigToe\", \"LSmallToe\", \"LHeel\", \\\n",
    "#                 \"RBigToe\", \"RSmallToe\", \"RHeel\"]\n",
    "#     Xm.insert(0,'body_part',body_part)\n",
    "    print(Xm)\n",
    "    Dm.append(Xm)\n"
   ]
  },
  {
   "cell_type": "code",
   "execution_count": 2,
   "metadata": {},
   "outputs": [
    {
     "data": {
      "text/html": [
       "<div>\n",
       "<style scoped>\n",
       "    .dataframe tbody tr th:only-of-type {\n",
       "        vertical-align: middle;\n",
       "    }\n",
       "\n",
       "    .dataframe tbody tr th {\n",
       "        vertical-align: top;\n",
       "    }\n",
       "\n",
       "    .dataframe thead th {\n",
       "        text-align: right;\n",
       "    }\n",
       "</style>\n",
       "<table border=\"1\" class=\"dataframe\">\n",
       "  <thead>\n",
       "    <tr style=\"text-align: right;\">\n",
       "      <th></th>\n",
       "      <th></th>\n",
       "      <th>num_movement_scit1</th>\n",
       "      <th>list_movement_time_s_scit1</th>\n",
       "      <th>list_start_time_s_scit1</th>\n",
       "      <th>total_movement_time_s_scit1</th>\n",
       "    </tr>\n",
       "  </thead>\n",
       "  <tbody>\n",
       "    <tr>\n",
       "      <th rowspan=\"30\" valign=\"top\">DL00006</th>\n",
       "      <th>0</th>\n",
       "      <td>12</td>\n",
       "      <td>[115, 46, 534, 30, 272, 655, 268, 357, 59, 240...</td>\n",
       "      <td>[16:50, 16:57, 17:11, 17:38, 17:43, 18:04, 18:...</td>\n",
       "      <td>7065.0</td>\n",
       "    </tr>\n",
       "    <tr>\n",
       "      <th>1</th>\n",
       "      <td>14</td>\n",
       "      <td>[172, 9, 442, 362, 1695, 152, 82, 1043, 635, 4...</td>\n",
       "      <td>[16:49, 17:00, 17:15, 17:40, 18:04, 19:04, 19:...</td>\n",
       "      <td>6249.0</td>\n",
       "    </tr>\n",
       "    <tr>\n",
       "      <th>2</th>\n",
       "      <td>12</td>\n",
       "      <td>[115, 46, 534, 30, 272, 655, 268, 356, 59, 240...</td>\n",
       "      <td>[16:50, 16:57, 17:11, 17:38, 17:43, 18:04, 18:...</td>\n",
       "      <td>7063.0</td>\n",
       "    </tr>\n",
       "    <tr>\n",
       "      <th>3</th>\n",
       "      <td>14</td>\n",
       "      <td>[172, 9, 442, 362, 1695, 152, 82, 1043, 635, 4...</td>\n",
       "      <td>[16:49, 17:00, 17:15, 17:40, 18:04, 19:04, 19:...</td>\n",
       "      <td>6249.0</td>\n",
       "    </tr>\n",
       "    <tr>\n",
       "      <th>4</th>\n",
       "      <td>12</td>\n",
       "      <td>[115, 46, 534, 30, 272, 655, 268, 356, 59, 240...</td>\n",
       "      <td>[16:50, 16:57, 17:11, 17:38, 17:43, 18:04, 18:...</td>\n",
       "      <td>7063.0</td>\n",
       "    </tr>\n",
       "    <tr>\n",
       "      <th>5</th>\n",
       "      <td>14</td>\n",
       "      <td>[172, 9, 442, 362, 1695, 152, 82, 1043, 635, 4...</td>\n",
       "      <td>[16:49, 17:00, 17:15, 17:40, 18:04, 19:04, 19:...</td>\n",
       "      <td>6249.0</td>\n",
       "    </tr>\n",
       "    <tr>\n",
       "      <th>6</th>\n",
       "      <td>12</td>\n",
       "      <td>[115, 46, 534, 30, 272, 655, 268, 356, 59, 240...</td>\n",
       "      <td>[16:50, 16:57, 17:11, 17:38, 17:43, 18:04, 18:...</td>\n",
       "      <td>7063.0</td>\n",
       "    </tr>\n",
       "    <tr>\n",
       "      <th>7</th>\n",
       "      <td>14</td>\n",
       "      <td>[172, 9, 442, 362, 1695, 152, 82, 1043, 635, 4...</td>\n",
       "      <td>[16:49, 17:00, 17:15, 17:40, 18:04, 19:04, 19:...</td>\n",
       "      <td>6249.0</td>\n",
       "    </tr>\n",
       "    <tr>\n",
       "      <th>8</th>\n",
       "      <td>12</td>\n",
       "      <td>[115, 46, 534, 30, 272, 655, 268, 356, 59, 240...</td>\n",
       "      <td>[16:50, 16:57, 17:11, 17:38, 17:43, 18:04, 18:...</td>\n",
       "      <td>7063.0</td>\n",
       "    </tr>\n",
       "    <tr>\n",
       "      <th>9</th>\n",
       "      <td>14</td>\n",
       "      <td>[172, 9, 442, 362, 1695, 152, 82, 1043, 635, 4...</td>\n",
       "      <td>[16:49, 17:00, 17:15, 17:40, 18:04, 19:04, 19:...</td>\n",
       "      <td>6249.0</td>\n",
       "    </tr>\n",
       "    <tr>\n",
       "      <th>10</th>\n",
       "      <td>25</td>\n",
       "      <td>[115, 21, 4, 304, 3, 3, 18, 139, 397, 84, 68, ...</td>\n",
       "      <td>[16:50, 16:57, 17:11, 17:16, 17:39, 17:47, 17:...</td>\n",
       "      <td>4961.0</td>\n",
       "    </tr>\n",
       "    <tr>\n",
       "      <th>11</th>\n",
       "      <td>28</td>\n",
       "      <td>[172, 3, 253, 3, 12, 141, 139, 154, 213, 3, 16...</td>\n",
       "      <td>[16:49, 17:00, 17:17, 17:30, 17:40, 17:47, 18:...</td>\n",
       "      <td>3640.0</td>\n",
       "    </tr>\n",
       "    <tr>\n",
       "      <th>12</th>\n",
       "      <td>24</td>\n",
       "      <td>[18, 2, 94, 2, 95, 15, 22, 4, 2, 108, 79, 2, 8...</td>\n",
       "      <td>[16:53, 17:11, 17:18, 18:04, 18:13, 18:21, 18:...</td>\n",
       "      <td>2047.0</td>\n",
       "    </tr>\n",
       "    <tr>\n",
       "      <th>13</th>\n",
       "      <td>26</td>\n",
       "      <td>[7, 3, 137, 2, 95, 91, 3, 2, 2, 2, 3, 2, 46, 6...</td>\n",
       "      <td>[16:51, 16:55, 17:17, 18:04, 18:13, 18:24, 18:...</td>\n",
       "      <td>975.0</td>\n",
       "    </tr>\n",
       "    <tr>\n",
       "      <th>14</th>\n",
       "      <td>14</td>\n",
       "      <td>[8, 4, 2, 151, 2, 182, 2, 15, 2, 78, 8, 30, 16...</td>\n",
       "      <td>[18:38, 18:54, 19:12, 19:52, 20:04, 20:15, 20:...</td>\n",
       "      <td>649.0</td>\n",
       "    </tr>\n",
       "    <tr>\n",
       "      <th>15</th>\n",
       "      <td>2</td>\n",
       "      <td>[2, 2]</td>\n",
       "      <td>[20:21, 21:34]</td>\n",
       "      <td>4.0</td>\n",
       "    </tr>\n",
       "    <tr>\n",
       "      <th>16</th>\n",
       "      <td>4</td>\n",
       "      <td>[2, 3, 3, 79]</td>\n",
       "      <td>[20:41, 20:57, 21:04, 21:38]</td>\n",
       "      <td>87.0</td>\n",
       "    </tr>\n",
       "    <tr>\n",
       "      <th>17</th>\n",
       "      <td>0</td>\n",
       "      <td>[]</td>\n",
       "      <td>[]</td>\n",
       "      <td>0.0</td>\n",
       "    </tr>\n",
       "    <tr>\n",
       "      <th>18</th>\n",
       "      <td>0</td>\n",
       "      <td>[]</td>\n",
       "      <td>[]</td>\n",
       "      <td>0.0</td>\n",
       "    </tr>\n",
       "    <tr>\n",
       "      <th>19</th>\n",
       "      <td>0</td>\n",
       "      <td>[]</td>\n",
       "      <td>[]</td>\n",
       "      <td>0.0</td>\n",
       "    </tr>\n",
       "    <tr>\n",
       "      <th>20</th>\n",
       "      <td>0</td>\n",
       "      <td>[]</td>\n",
       "      <td>[]</td>\n",
       "      <td>0.0</td>\n",
       "    </tr>\n",
       "    <tr>\n",
       "      <th>21</th>\n",
       "      <td>0</td>\n",
       "      <td>[]</td>\n",
       "      <td>[]</td>\n",
       "      <td>0.0</td>\n",
       "    </tr>\n",
       "    <tr>\n",
       "      <th>22</th>\n",
       "      <td>0</td>\n",
       "      <td>[]</td>\n",
       "      <td>[]</td>\n",
       "      <td>0.0</td>\n",
       "    </tr>\n",
       "    <tr>\n",
       "      <th>23</th>\n",
       "      <td>0</td>\n",
       "      <td>[]</td>\n",
       "      <td>[]</td>\n",
       "      <td>0.0</td>\n",
       "    </tr>\n",
       "    <tr>\n",
       "      <th>24</th>\n",
       "      <td>0</td>\n",
       "      <td>[]</td>\n",
       "      <td>[]</td>\n",
       "      <td>0.0</td>\n",
       "    </tr>\n",
       "    <tr>\n",
       "      <th>25</th>\n",
       "      <td>0</td>\n",
       "      <td>[]</td>\n",
       "      <td>[]</td>\n",
       "      <td>0.0</td>\n",
       "    </tr>\n",
       "    <tr>\n",
       "      <th>26</th>\n",
       "      <td>0</td>\n",
       "      <td>[]</td>\n",
       "      <td>[]</td>\n",
       "      <td>0.0</td>\n",
       "    </tr>\n",
       "    <tr>\n",
       "      <th>27</th>\n",
       "      <td>0</td>\n",
       "      <td>[]</td>\n",
       "      <td>[]</td>\n",
       "      <td>0.0</td>\n",
       "    </tr>\n",
       "    <tr>\n",
       "      <th>28</th>\n",
       "      <td>0</td>\n",
       "      <td>[]</td>\n",
       "      <td>[]</td>\n",
       "      <td>0.0</td>\n",
       "    </tr>\n",
       "    <tr>\n",
       "      <th>29</th>\n",
       "      <td>0</td>\n",
       "      <td>[]</td>\n",
       "      <td>[]</td>\n",
       "      <td>0.0</td>\n",
       "    </tr>\n",
       "    <tr>\n",
       "      <th>...</th>\n",
       "      <th>...</th>\n",
       "      <td>...</td>\n",
       "      <td>...</td>\n",
       "      <td>...</td>\n",
       "      <td>...</td>\n",
       "    </tr>\n",
       "    <tr>\n",
       "      <th rowspan=\"30\" valign=\"top\">MSC00011</th>\n",
       "      <th>8</th>\n",
       "      <td>5</td>\n",
       "      <td>[624, 10, 526, 3689, 3493]</td>\n",
       "      <td>[11:00, 11:29, 11:34, 11:56, 14:03]</td>\n",
       "      <td>8342.0</td>\n",
       "    </tr>\n",
       "    <tr>\n",
       "      <th>9</th>\n",
       "      <td>6</td>\n",
       "      <td>[76, 1377, 5768, 138, 952, 88]</td>\n",
       "      <td>[11:00, 11:06, 11:57, 15:13, 15:21, 15:57]</td>\n",
       "      <td>8399.0</td>\n",
       "    </tr>\n",
       "    <tr>\n",
       "      <th>10</th>\n",
       "      <td>22</td>\n",
       "      <td>[3, 480, 10, 183, 152, 286, 508, 1671, 893, 3,...</td>\n",
       "      <td>[11:00, 11:04, 11:29, 11:35, 11:45, 11:56, 12:...</td>\n",
       "      <td>5835.0</td>\n",
       "    </tr>\n",
       "    <tr>\n",
       "      <th>11</th>\n",
       "      <td>15</td>\n",
       "      <td>[55, 212, 411, 470, 172, 314, 687, 1137, 995, ...</td>\n",
       "      <td>[11:00, 11:07, 11:19, 11:36, 11:57, 12:07, 12:...</td>\n",
       "      <td>7077.0</td>\n",
       "    </tr>\n",
       "    <tr>\n",
       "      <th>12</th>\n",
       "      <td>27</td>\n",
       "      <td>[6, 59, 3, 2, 35, 52, 3, 2, 46, 212, 127, 160,...</td>\n",
       "      <td>[11:07, 11:11, 11:41, 11:47, 11:57, 12:02, 12:...</td>\n",
       "      <td>1533.0</td>\n",
       "    </tr>\n",
       "    <tr>\n",
       "      <th>13</th>\n",
       "      <td>27</td>\n",
       "      <td>[2, 3, 2, 86, 55, 170, 23, 55, 232, 50, 72, 34...</td>\n",
       "      <td>[11:07, 11:20, 11:27, 11:38, 11:47, 11:57, 12:...</td>\n",
       "      <td>2235.0</td>\n",
       "    </tr>\n",
       "    <tr>\n",
       "      <th>14</th>\n",
       "      <td>2</td>\n",
       "      <td>[6, 2]</td>\n",
       "      <td>[11:07, 15:55]</td>\n",
       "      <td>8.0</td>\n",
       "    </tr>\n",
       "    <tr>\n",
       "      <th>15</th>\n",
       "      <td>1</td>\n",
       "      <td>[2]</td>\n",
       "      <td>[11:07]</td>\n",
       "      <td>2.0</td>\n",
       "    </tr>\n",
       "    <tr>\n",
       "      <th>16</th>\n",
       "      <td>0</td>\n",
       "      <td>[]</td>\n",
       "      <td>[]</td>\n",
       "      <td>0.0</td>\n",
       "    </tr>\n",
       "    <tr>\n",
       "      <th>17</th>\n",
       "      <td>0</td>\n",
       "      <td>[]</td>\n",
       "      <td>[]</td>\n",
       "      <td>0.0</td>\n",
       "    </tr>\n",
       "    <tr>\n",
       "      <th>18</th>\n",
       "      <td>0</td>\n",
       "      <td>[]</td>\n",
       "      <td>[]</td>\n",
       "      <td>0.0</td>\n",
       "    </tr>\n",
       "    <tr>\n",
       "      <th>19</th>\n",
       "      <td>0</td>\n",
       "      <td>[]</td>\n",
       "      <td>[]</td>\n",
       "      <td>0.0</td>\n",
       "    </tr>\n",
       "    <tr>\n",
       "      <th>20</th>\n",
       "      <td>0</td>\n",
       "      <td>[]</td>\n",
       "      <td>[]</td>\n",
       "      <td>0.0</td>\n",
       "    </tr>\n",
       "    <tr>\n",
       "      <th>21</th>\n",
       "      <td>0</td>\n",
       "      <td>[]</td>\n",
       "      <td>[]</td>\n",
       "      <td>0.0</td>\n",
       "    </tr>\n",
       "    <tr>\n",
       "      <th>22</th>\n",
       "      <td>0</td>\n",
       "      <td>[]</td>\n",
       "      <td>[]</td>\n",
       "      <td>0.0</td>\n",
       "    </tr>\n",
       "    <tr>\n",
       "      <th>23</th>\n",
       "      <td>0</td>\n",
       "      <td>[]</td>\n",
       "      <td>[]</td>\n",
       "      <td>0.0</td>\n",
       "    </tr>\n",
       "    <tr>\n",
       "      <th>24</th>\n",
       "      <td>0</td>\n",
       "      <td>[]</td>\n",
       "      <td>[]</td>\n",
       "      <td>0.0</td>\n",
       "    </tr>\n",
       "    <tr>\n",
       "      <th>25</th>\n",
       "      <td>0</td>\n",
       "      <td>[]</td>\n",
       "      <td>[]</td>\n",
       "      <td>0.0</td>\n",
       "    </tr>\n",
       "    <tr>\n",
       "      <th>26</th>\n",
       "      <td>0</td>\n",
       "      <td>[]</td>\n",
       "      <td>[]</td>\n",
       "      <td>0.0</td>\n",
       "    </tr>\n",
       "    <tr>\n",
       "      <th>27</th>\n",
       "      <td>0</td>\n",
       "      <td>[]</td>\n",
       "      <td>[]</td>\n",
       "      <td>0.0</td>\n",
       "    </tr>\n",
       "    <tr>\n",
       "      <th>28</th>\n",
       "      <td>0</td>\n",
       "      <td>[]</td>\n",
       "      <td>[]</td>\n",
       "      <td>0.0</td>\n",
       "    </tr>\n",
       "    <tr>\n",
       "      <th>29</th>\n",
       "      <td>0</td>\n",
       "      <td>[]</td>\n",
       "      <td>[]</td>\n",
       "      <td>0.0</td>\n",
       "    </tr>\n",
       "    <tr>\n",
       "      <th>30</th>\n",
       "      <td>0</td>\n",
       "      <td>[]</td>\n",
       "      <td>[]</td>\n",
       "      <td>0.0</td>\n",
       "    </tr>\n",
       "    <tr>\n",
       "      <th>31</th>\n",
       "      <td>0</td>\n",
       "      <td>[]</td>\n",
       "      <td>[]</td>\n",
       "      <td>0.0</td>\n",
       "    </tr>\n",
       "    <tr>\n",
       "      <th>32</th>\n",
       "      <td>0</td>\n",
       "      <td>[]</td>\n",
       "      <td>[]</td>\n",
       "      <td>0.0</td>\n",
       "    </tr>\n",
       "    <tr>\n",
       "      <th>33</th>\n",
       "      <td>0</td>\n",
       "      <td>[]</td>\n",
       "      <td>[]</td>\n",
       "      <td>0.0</td>\n",
       "    </tr>\n",
       "    <tr>\n",
       "      <th>34</th>\n",
       "      <td>0</td>\n",
       "      <td>[]</td>\n",
       "      <td>[]</td>\n",
       "      <td>0.0</td>\n",
       "    </tr>\n",
       "    <tr>\n",
       "      <th>35</th>\n",
       "      <td>0</td>\n",
       "      <td>[]</td>\n",
       "      <td>[]</td>\n",
       "      <td>0.0</td>\n",
       "    </tr>\n",
       "    <tr>\n",
       "      <th>36</th>\n",
       "      <td>0</td>\n",
       "      <td>[]</td>\n",
       "      <td>[]</td>\n",
       "      <td>0.0</td>\n",
       "    </tr>\n",
       "    <tr>\n",
       "      <th>37</th>\n",
       "      <td>0</td>\n",
       "      <td>[]</td>\n",
       "      <td>[]</td>\n",
       "      <td>0.0</td>\n",
       "    </tr>\n",
       "  </tbody>\n",
       "</table>\n",
       "<p>190 rows × 4 columns</p>\n",
       "</div>"
      ],
      "text/plain": [
       "             num_movement_scit1  \\\n",
       "DL00006  0                   12   \n",
       "         1                   14   \n",
       "         2                   12   \n",
       "         3                   14   \n",
       "         4                   12   \n",
       "         5                   14   \n",
       "         6                   12   \n",
       "         7                   14   \n",
       "         8                   12   \n",
       "         9                   14   \n",
       "         10                  25   \n",
       "         11                  28   \n",
       "         12                  24   \n",
       "         13                  26   \n",
       "         14                  14   \n",
       "         15                   2   \n",
       "         16                   4   \n",
       "         17                   0   \n",
       "         18                   0   \n",
       "         19                   0   \n",
       "         20                   0   \n",
       "         21                   0   \n",
       "         22                   0   \n",
       "         23                   0   \n",
       "         24                   0   \n",
       "         25                   0   \n",
       "         26                   0   \n",
       "         27                   0   \n",
       "         28                   0   \n",
       "         29                   0   \n",
       "...                         ...   \n",
       "MSC00011 8                    5   \n",
       "         9                    6   \n",
       "         10                  22   \n",
       "         11                  15   \n",
       "         12                  27   \n",
       "         13                  27   \n",
       "         14                   2   \n",
       "         15                   1   \n",
       "         16                   0   \n",
       "         17                   0   \n",
       "         18                   0   \n",
       "         19                   0   \n",
       "         20                   0   \n",
       "         21                   0   \n",
       "         22                   0   \n",
       "         23                   0   \n",
       "         24                   0   \n",
       "         25                   0   \n",
       "         26                   0   \n",
       "         27                   0   \n",
       "         28                   0   \n",
       "         29                   0   \n",
       "         30                   0   \n",
       "         31                   0   \n",
       "         32                   0   \n",
       "         33                   0   \n",
       "         34                   0   \n",
       "         35                   0   \n",
       "         36                   0   \n",
       "         37                   0   \n",
       "\n",
       "                                    list_movement_time_s_scit1  \\\n",
       "DL00006  0   [115, 46, 534, 30, 272, 655, 268, 357, 59, 240...   \n",
       "         1   [172, 9, 442, 362, 1695, 152, 82, 1043, 635, 4...   \n",
       "         2   [115, 46, 534, 30, 272, 655, 268, 356, 59, 240...   \n",
       "         3   [172, 9, 442, 362, 1695, 152, 82, 1043, 635, 4...   \n",
       "         4   [115, 46, 534, 30, 272, 655, 268, 356, 59, 240...   \n",
       "         5   [172, 9, 442, 362, 1695, 152, 82, 1043, 635, 4...   \n",
       "         6   [115, 46, 534, 30, 272, 655, 268, 356, 59, 240...   \n",
       "         7   [172, 9, 442, 362, 1695, 152, 82, 1043, 635, 4...   \n",
       "         8   [115, 46, 534, 30, 272, 655, 268, 356, 59, 240...   \n",
       "         9   [172, 9, 442, 362, 1695, 152, 82, 1043, 635, 4...   \n",
       "         10  [115, 21, 4, 304, 3, 3, 18, 139, 397, 84, 68, ...   \n",
       "         11  [172, 3, 253, 3, 12, 141, 139, 154, 213, 3, 16...   \n",
       "         12  [18, 2, 94, 2, 95, 15, 22, 4, 2, 108, 79, 2, 8...   \n",
       "         13  [7, 3, 137, 2, 95, 91, 3, 2, 2, 2, 3, 2, 46, 6...   \n",
       "         14  [8, 4, 2, 151, 2, 182, 2, 15, 2, 78, 8, 30, 16...   \n",
       "         15                                             [2, 2]   \n",
       "         16                                      [2, 3, 3, 79]   \n",
       "         17                                                 []   \n",
       "         18                                                 []   \n",
       "         19                                                 []   \n",
       "         20                                                 []   \n",
       "         21                                                 []   \n",
       "         22                                                 []   \n",
       "         23                                                 []   \n",
       "         24                                                 []   \n",
       "         25                                                 []   \n",
       "         26                                                 []   \n",
       "         27                                                 []   \n",
       "         28                                                 []   \n",
       "         29                                                 []   \n",
       "...                                                        ...   \n",
       "MSC00011 8                          [624, 10, 526, 3689, 3493]   \n",
       "         9                      [76, 1377, 5768, 138, 952, 88]   \n",
       "         10  [3, 480, 10, 183, 152, 286, 508, 1671, 893, 3,...   \n",
       "         11  [55, 212, 411, 470, 172, 314, 687, 1137, 995, ...   \n",
       "         12  [6, 59, 3, 2, 35, 52, 3, 2, 46, 212, 127, 160,...   \n",
       "         13  [2, 3, 2, 86, 55, 170, 23, 55, 232, 50, 72, 34...   \n",
       "         14                                             [6, 2]   \n",
       "         15                                                [2]   \n",
       "         16                                                 []   \n",
       "         17                                                 []   \n",
       "         18                                                 []   \n",
       "         19                                                 []   \n",
       "         20                                                 []   \n",
       "         21                                                 []   \n",
       "         22                                                 []   \n",
       "         23                                                 []   \n",
       "         24                                                 []   \n",
       "         25                                                 []   \n",
       "         26                                                 []   \n",
       "         27                                                 []   \n",
       "         28                                                 []   \n",
       "         29                                                 []   \n",
       "         30                                                 []   \n",
       "         31                                                 []   \n",
       "         32                                                 []   \n",
       "         33                                                 []   \n",
       "         34                                                 []   \n",
       "         35                                                 []   \n",
       "         36                                                 []   \n",
       "         37                                                 []   \n",
       "\n",
       "                                       list_start_time_s_scit1  \\\n",
       "DL00006  0   [16:50, 16:57, 17:11, 17:38, 17:43, 18:04, 18:...   \n",
       "         1   [16:49, 17:00, 17:15, 17:40, 18:04, 19:04, 19:...   \n",
       "         2   [16:50, 16:57, 17:11, 17:38, 17:43, 18:04, 18:...   \n",
       "         3   [16:49, 17:00, 17:15, 17:40, 18:04, 19:04, 19:...   \n",
       "         4   [16:50, 16:57, 17:11, 17:38, 17:43, 18:04, 18:...   \n",
       "         5   [16:49, 17:00, 17:15, 17:40, 18:04, 19:04, 19:...   \n",
       "         6   [16:50, 16:57, 17:11, 17:38, 17:43, 18:04, 18:...   \n",
       "         7   [16:49, 17:00, 17:15, 17:40, 18:04, 19:04, 19:...   \n",
       "         8   [16:50, 16:57, 17:11, 17:38, 17:43, 18:04, 18:...   \n",
       "         9   [16:49, 17:00, 17:15, 17:40, 18:04, 19:04, 19:...   \n",
       "         10  [16:50, 16:57, 17:11, 17:16, 17:39, 17:47, 17:...   \n",
       "         11  [16:49, 17:00, 17:17, 17:30, 17:40, 17:47, 18:...   \n",
       "         12  [16:53, 17:11, 17:18, 18:04, 18:13, 18:21, 18:...   \n",
       "         13  [16:51, 16:55, 17:17, 18:04, 18:13, 18:24, 18:...   \n",
       "         14  [18:38, 18:54, 19:12, 19:52, 20:04, 20:15, 20:...   \n",
       "         15                                     [20:21, 21:34]   \n",
       "         16                       [20:41, 20:57, 21:04, 21:38]   \n",
       "         17                                                 []   \n",
       "         18                                                 []   \n",
       "         19                                                 []   \n",
       "         20                                                 []   \n",
       "         21                                                 []   \n",
       "         22                                                 []   \n",
       "         23                                                 []   \n",
       "         24                                                 []   \n",
       "         25                                                 []   \n",
       "         26                                                 []   \n",
       "         27                                                 []   \n",
       "         28                                                 []   \n",
       "         29                                                 []   \n",
       "...                                                        ...   \n",
       "MSC00011 8                 [11:00, 11:29, 11:34, 11:56, 14:03]   \n",
       "         9          [11:00, 11:06, 11:57, 15:13, 15:21, 15:57]   \n",
       "         10  [11:00, 11:04, 11:29, 11:35, 11:45, 11:56, 12:...   \n",
       "         11  [11:00, 11:07, 11:19, 11:36, 11:57, 12:07, 12:...   \n",
       "         12  [11:07, 11:11, 11:41, 11:47, 11:57, 12:02, 12:...   \n",
       "         13  [11:07, 11:20, 11:27, 11:38, 11:47, 11:57, 12:...   \n",
       "         14                                     [11:07, 15:55]   \n",
       "         15                                            [11:07]   \n",
       "         16                                                 []   \n",
       "         17                                                 []   \n",
       "         18                                                 []   \n",
       "         19                                                 []   \n",
       "         20                                                 []   \n",
       "         21                                                 []   \n",
       "         22                                                 []   \n",
       "         23                                                 []   \n",
       "         24                                                 []   \n",
       "         25                                                 []   \n",
       "         26                                                 []   \n",
       "         27                                                 []   \n",
       "         28                                                 []   \n",
       "         29                                                 []   \n",
       "         30                                                 []   \n",
       "         31                                                 []   \n",
       "         32                                                 []   \n",
       "         33                                                 []   \n",
       "         34                                                 []   \n",
       "         35                                                 []   \n",
       "         36                                                 []   \n",
       "         37                                                 []   \n",
       "\n",
       "             total_movement_time_s_scit1  \n",
       "DL00006  0                        7065.0  \n",
       "         1                        6249.0  \n",
       "         2                        7063.0  \n",
       "         3                        6249.0  \n",
       "         4                        7063.0  \n",
       "         5                        6249.0  \n",
       "         6                        7063.0  \n",
       "         7                        6249.0  \n",
       "         8                        7063.0  \n",
       "         9                        6249.0  \n",
       "         10                       4961.0  \n",
       "         11                       3640.0  \n",
       "         12                       2047.0  \n",
       "         13                        975.0  \n",
       "         14                        649.0  \n",
       "         15                          4.0  \n",
       "         16                         87.0  \n",
       "         17                          0.0  \n",
       "         18                          0.0  \n",
       "         19                          0.0  \n",
       "         20                          0.0  \n",
       "         21                          0.0  \n",
       "         22                          0.0  \n",
       "         23                          0.0  \n",
       "         24                          0.0  \n",
       "         25                          0.0  \n",
       "         26                          0.0  \n",
       "         27                          0.0  \n",
       "         28                          0.0  \n",
       "         29                          0.0  \n",
       "...                                  ...  \n",
       "MSC00011 8                        8342.0  \n",
       "         9                        8399.0  \n",
       "         10                       5835.0  \n",
       "         11                       7077.0  \n",
       "         12                       1533.0  \n",
       "         13                       2235.0  \n",
       "         14                          8.0  \n",
       "         15                          2.0  \n",
       "         16                          0.0  \n",
       "         17                          0.0  \n",
       "         18                          0.0  \n",
       "         19                          0.0  \n",
       "         20                          0.0  \n",
       "         21                          0.0  \n",
       "         22                          0.0  \n",
       "         23                          0.0  \n",
       "         24                          0.0  \n",
       "         25                          0.0  \n",
       "         26                          0.0  \n",
       "         27                          0.0  \n",
       "         28                          0.0  \n",
       "         29                          0.0  \n",
       "         30                          0.0  \n",
       "         31                          0.0  \n",
       "         32                          0.0  \n",
       "         33                          0.0  \n",
       "         34                          0.0  \n",
       "         35                          0.0  \n",
       "         36                          0.0  \n",
       "         37                          0.0  \n",
       "\n",
       "[190 rows x 4 columns]"
      ]
     },
     "execution_count": 2,
     "metadata": {},
     "output_type": "execute_result"
    }
   ],
   "source": [
    "Dv = pd.concat(Dv, keys = video_list)\n",
    "Dv['total_movement_time_s_scit1'] = Dv['list_movement_time_s_scit1'].apply(lambda x: np.sum(x))\n",
    "\n",
    "Dv2 = pd.concat(Dv2, keys = video_list)\n",
    "Dv2['total_movement_time_s_scit1'] = Dv2['list_movement_time_s_scit1'].apply(lambda x: np.sum(x))\n",
    "\n",
    "Dm = pd.concat(Dm, keys = video_list)\n",
    "Dm['total_movement_time_s_scit1'] = Dm['list_movement_time_s_scit1'].apply(lambda x: np.sum(x))\n",
    "Dv2"
   ]
  },
  {
   "cell_type": "code",
   "execution_count": 3,
   "metadata": {},
   "outputs": [
    {
     "ename": "PermissionError",
     "evalue": "[Errno 13] Permission denied: 'test_m.csv'",
     "output_type": "error",
     "traceback": [
      "\u001b[1;31m---------------------------------------------------------------------------\u001b[0m",
      "\u001b[1;31mPermissionError\u001b[0m                           Traceback (most recent call last)",
      "\u001b[1;32m<ipython-input-3-c3789a774d0a>\u001b[0m in \u001b[0;36m<module>\u001b[1;34m\u001b[0m\n\u001b[0;32m      1\u001b[0m \u001b[0mDv\u001b[0m\u001b[1;33m.\u001b[0m\u001b[0mto_csv\u001b[0m\u001b[1;33m(\u001b[0m\u001b[1;34m'test_v.csv'\u001b[0m\u001b[1;33m)\u001b[0m\u001b[1;33m\u001b[0m\u001b[1;33m\u001b[0m\u001b[0m\n\u001b[0;32m      2\u001b[0m \u001b[0mDv2\u001b[0m\u001b[1;33m.\u001b[0m\u001b[0mto_csv\u001b[0m\u001b[1;33m(\u001b[0m\u001b[1;34m'test_v2.csv'\u001b[0m\u001b[1;33m)\u001b[0m\u001b[1;33m\u001b[0m\u001b[1;33m\u001b[0m\u001b[0m\n\u001b[1;32m----> 3\u001b[1;33m \u001b[0mDm\u001b[0m\u001b[1;33m.\u001b[0m\u001b[0mto_csv\u001b[0m\u001b[1;33m(\u001b[0m\u001b[1;34m'test_m.csv'\u001b[0m\u001b[1;33m)\u001b[0m\u001b[1;33m\u001b[0m\u001b[1;33m\u001b[0m\u001b[0m\n\u001b[0m",
      "\u001b[1;32mc:\\users\\bu yanyun\\appdata\\local\\programs\\python\\python37\\lib\\site-packages\\pandas\\core\\generic.py\u001b[0m in \u001b[0;36mto_csv\u001b[1;34m(self, path_or_buf, sep, na_rep, float_format, columns, header, index, index_label, mode, encoding, compression, quoting, quotechar, line_terminator, chunksize, tupleize_cols, date_format, doublequote, escapechar, decimal)\u001b[0m\n\u001b[0;32m   3018\u001b[0m                                  \u001b[0mdoublequote\u001b[0m\u001b[1;33m=\u001b[0m\u001b[0mdoublequote\u001b[0m\u001b[1;33m,\u001b[0m\u001b[1;33m\u001b[0m\u001b[1;33m\u001b[0m\u001b[0m\n\u001b[0;32m   3019\u001b[0m                                  escapechar=escapechar, decimal=decimal)\n\u001b[1;32m-> 3020\u001b[1;33m         \u001b[0mformatter\u001b[0m\u001b[1;33m.\u001b[0m\u001b[0msave\u001b[0m\u001b[1;33m(\u001b[0m\u001b[1;33m)\u001b[0m\u001b[1;33m\u001b[0m\u001b[1;33m\u001b[0m\u001b[0m\n\u001b[0m\u001b[0;32m   3021\u001b[0m \u001b[1;33m\u001b[0m\u001b[0m\n\u001b[0;32m   3022\u001b[0m         \u001b[1;32mif\u001b[0m \u001b[0mpath_or_buf\u001b[0m \u001b[1;32mis\u001b[0m \u001b[1;32mNone\u001b[0m\u001b[1;33m:\u001b[0m\u001b[1;33m\u001b[0m\u001b[1;33m\u001b[0m\u001b[0m\n",
      "\u001b[1;32mc:\\users\\bu yanyun\\appdata\\local\\programs\\python\\python37\\lib\\site-packages\\pandas\\io\\formats\\csvs.py\u001b[0m in \u001b[0;36msave\u001b[1;34m(self)\u001b[0m\n\u001b[0;32m    155\u001b[0m             f, handles = _get_handle(self.path_or_buf, self.mode,\n\u001b[0;32m    156\u001b[0m                                      \u001b[0mencoding\u001b[0m\u001b[1;33m=\u001b[0m\u001b[0mself\u001b[0m\u001b[1;33m.\u001b[0m\u001b[0mencoding\u001b[0m\u001b[1;33m,\u001b[0m\u001b[1;33m\u001b[0m\u001b[1;33m\u001b[0m\u001b[0m\n\u001b[1;32m--> 157\u001b[1;33m                                      compression=self.compression)\n\u001b[0m\u001b[0;32m    158\u001b[0m             \u001b[0mclose\u001b[0m \u001b[1;33m=\u001b[0m \u001b[1;32mTrue\u001b[0m\u001b[1;33m\u001b[0m\u001b[1;33m\u001b[0m\u001b[0m\n\u001b[0;32m    159\u001b[0m \u001b[1;33m\u001b[0m\u001b[0m\n",
      "\u001b[1;32mc:\\users\\bu yanyun\\appdata\\local\\programs\\python\\python37\\lib\\site-packages\\pandas\\io\\common.py\u001b[0m in \u001b[0;36m_get_handle\u001b[1;34m(path_or_buf, mode, encoding, compression, memory_map, is_text)\u001b[0m\n\u001b[0;32m    422\u001b[0m         \u001b[1;32melif\u001b[0m \u001b[0mencoding\u001b[0m\u001b[1;33m:\u001b[0m\u001b[1;33m\u001b[0m\u001b[1;33m\u001b[0m\u001b[0m\n\u001b[0;32m    423\u001b[0m             \u001b[1;31m# Python 3 and encoding\u001b[0m\u001b[1;33m\u001b[0m\u001b[1;33m\u001b[0m\u001b[1;33m\u001b[0m\u001b[0m\n\u001b[1;32m--> 424\u001b[1;33m             \u001b[0mf\u001b[0m \u001b[1;33m=\u001b[0m \u001b[0mopen\u001b[0m\u001b[1;33m(\u001b[0m\u001b[0mpath_or_buf\u001b[0m\u001b[1;33m,\u001b[0m \u001b[0mmode\u001b[0m\u001b[1;33m,\u001b[0m \u001b[0mencoding\u001b[0m\u001b[1;33m=\u001b[0m\u001b[0mencoding\u001b[0m\u001b[1;33m,\u001b[0m \u001b[0mnewline\u001b[0m\u001b[1;33m=\u001b[0m\u001b[1;34m\"\"\u001b[0m\u001b[1;33m)\u001b[0m\u001b[1;33m\u001b[0m\u001b[1;33m\u001b[0m\u001b[0m\n\u001b[0m\u001b[0;32m    425\u001b[0m         \u001b[1;32melif\u001b[0m \u001b[0mis_text\u001b[0m\u001b[1;33m:\u001b[0m\u001b[1;33m\u001b[0m\u001b[1;33m\u001b[0m\u001b[0m\n\u001b[0;32m    426\u001b[0m             \u001b[1;31m# Python 3 and no explicit encoding\u001b[0m\u001b[1;33m\u001b[0m\u001b[1;33m\u001b[0m\u001b[1;33m\u001b[0m\u001b[0m\n",
      "\u001b[1;31mPermissionError\u001b[0m: [Errno 13] Permission denied: 'test_m.csv'"
     ]
    }
   ],
   "source": [
    "Dv.to_csv('test_v.csv')\n",
    "Dv2.to_csv('test_v2.csv')\n",
    "Dm.to_csv('test_m.csv')"
   ]
  },
  {
   "cell_type": "code",
   "execution_count": 4,
   "metadata": {},
   "outputs": [],
   "source": [
    "import time\n",
    "# name = ['DL', 'DS', 'EJ', 'LS', 'MSC']\n",
    "\n",
    "# all_handwriten = []\n",
    "\n",
    "# for n in name:\n",
    "#     df_h = pd.read_excel(n + '_clean_data.xlsx', index_col=None, header=None)\n",
    "#     D_RA = df_h[[1,7,13,19,25,31]]\n",
    "\n",
    "\n",
    "#     D_curr = []\n",
    "#     # 6 RA\n",
    "#     for i in range(6):\n",
    "        \n",
    "#         D_h = D_RA[i * 6 +1]\n",
    "#         D_h = D_h.dropna()\n",
    "#         D_c = D_h.tolist()\n",
    "# #         j = 0\n",
    "# #         # remove duplicate movement\n",
    "# #         while j < len(D_c): \n",
    "# #             for k in range(len(D_c)):\n",
    "# #                 if j != k:\n",
    "# #                     if abs(D_c[j] - D_c[k]) < 2:\n",
    "# #                         del D_c[k]\n",
    "# #                         j = j - 1;\n",
    "# #                         break\n",
    "# #             j = j + 1\n",
    "\n",
    "#         D_curr.append(D_c)\n",
    "#     all_handwriten.append(D_curr)\n",
    "\n",
    "input_part = \"arms\"\n",
    "\n",
    "df_DL = pd.read_excel(\"SCIT10MinData_clean.xlsx\", 'DL')\n",
    "df_DS = pd.read_excel(\"SCIT10MinData_clean.xlsx\", 'DS')\n",
    "df_EJ = pd.read_excel(\"SCIT10MinData_clean.xlsx\", 'EJ')\n",
    "df_LS = pd.read_excel(\"SCIT10MinData_clean.xlsx\", 'LS')\n",
    "df_MSC = pd.read_excel(\"SCIT10MinData_clean.xlsx\", 'MSC')\n",
    "df_5videos = [df_DL, df_DS, df_EJ, df_LS, df_MSC]\n",
    "sera_anno_index = ['Unnamed: 3', 'Unnamed: 5']\n",
    "hebah_anno_index = ['Unnamed: 9', 'Unnamed: 11']\n",
    "jecika_anno_index = ['Unnamed: 15', 'Unnamed: 17']\n",
    "natasha_anno_index = ['Unnamed: 21', 'Unnamed: 23']\n",
    "mackenzie_anno_index = ['Unnamed: 27', 'Unnamed: 29']\n",
    "safia_anno_index = ['Unnamed: 33', 'Unnamed: 35']\n",
    "sera_anno = []\n",
    "hebah_anno = []\n",
    "jecika_anno = []\n",
    "natasha_anno = []\n",
    "machenzie_anno = []\n",
    "safia_anno = []\n",
    "for i in range(5):\n",
    "    curr_df = df_5videos[i]\n",
    "    sera_anno.append(curr_df[sera_anno_index].dropna().iloc[1:-1])\n",
    "    hebah_anno.append(curr_df[hebah_anno_index].dropna().iloc[1:-1])\n",
    "    jecika_anno.append(curr_df[jecika_anno_index].dropna().iloc[1:-1])\n",
    "    natasha_anno.append(curr_df[natasha_anno_index].dropna().iloc[1:-1])\n",
    "    machenzie_anno.append(curr_df[mackenzie_anno_index].dropna().iloc[1:-1])\n",
    "    safia_anno.append(curr_df[safia_anno_index].dropna().iloc[1:-1])\n",
    "sera_part_anno = []\n",
    "hebah_part_anno = []\n",
    "jecika_part_anno = []\n",
    "natasha_part_anno = []\n",
    "machenzie_part_anno = []\n",
    "safia_part_anno = []\n",
    "for i in range(5):\n",
    "    sera_part_anno.append(sera_anno[i][sera_anno[i]['Unnamed: 5'].str.contains(input_part)])\n",
    "    hebah_part_anno.append(hebah_anno[i][hebah_anno[i]['Unnamed: 11'].str.contains(input_part)])\n",
    "    if i == 1:\n",
    "        jecika_part_anno.append(jecika_anno[i])\n",
    "    else:\n",
    "        jecika_part_anno.append(jecika_anno[i][jecika_anno[i]['Unnamed: 17'].str.contains(input_part)])\n",
    "    natasha_part_anno.append(natasha_anno[i][natasha_anno[i]['Unnamed: 23'].str.contains(input_part)])\n",
    "    if i == 1:\n",
    "        machenzie_part_anno.append(machenzie_anno[i])\n",
    "    else:\n",
    "        machenzie_part_anno.append(machenzie_anno[i][machenzie_anno[i]['Unnamed: 29'].str.contains(input_part)])\n",
    "    safia_part_anno.append(safia_anno[i][safia_anno[i]['Unnamed: 35'].str.contains(input_part)])\n",
    "output = []\n",
    "for i in range(5):\n",
    "    output_curr = []\n",
    "    output_curr.append(sera_part_anno[i]['Unnamed: 3'].tolist())\n",
    "    output_curr.append(hebah_part_anno[i]['Unnamed: 9'].tolist())\n",
    "    output_curr.append(jecika_part_anno[i]['Unnamed: 15'].tolist())\n",
    "    output_curr.append(natasha_part_anno[i]['Unnamed: 21'].tolist())\n",
    "    output_curr.append(machenzie_part_anno[i]['Unnamed: 27'].tolist())\n",
    "    output_curr.append(safia_part_anno[i]['Unnamed: 33'].tolist())\n",
    "    output.append(output_curr)\n",
    "\n",
    "all_handwriten = output\n",
    "\n",
    "\n",
    "# D_c = []\n",
    "# for i in range(len(D_h)):\n",
    "#     t1 = D_h.iloc[i]\n",
    "#     if isinstance(t1, str):\n",
    "#         t1 = time.strptime(t1.split('.')[0],'%H:%M:%S')\n",
    "#         t1 = t1.tm_min*60 + t1.tm_sec\n",
    "#     else:\n",
    "#         t1 = t1.minute * 60 + t1.second + t1.microsecond / 1000000\n",
    "    \n",
    "#     same = 0\n",
    "    \n",
    "#     for j in range(i+1,len(D_h)):\n",
    "#         t2 = D_h.iloc[j]\n",
    "#         if isinstance(t2, str):\n",
    "#             t2 = time.strptime(t2.split('.')[0],'%H:%M:%S')\n",
    "#             t2 = t2.tm_min*60 + t2.tm_sec\n",
    "#         else:\n",
    "#             t2 = t2.minute * 60 + t2.second + t2.microsecond / 1000000\n",
    "        \n",
    "#         if abs(t2 - t1) < 2:\n",
    "#             same = 1\n",
    "#     if same == 1:\n",
    "#         D_c.append(t1)\n",
    "\n",
    "# D_c2 = [D_c[0]]\n",
    "# for i in range(1,len(D_c)):\n",
    "#     same = 0\n",
    "#     for j in range(len(D_c2)):\n",
    "#         if abs(D_c[i] - D_c2[j]) < 2:\n",
    "#             same = 1\n",
    "#     if same == 0:\n",
    "#         D_c2.append(D_c[i])\n",
    "# len(D_c2)"
   ]
  },
  {
   "cell_type": "code",
   "execution_count": 23,
   "metadata": {},
   "outputs": [
    {
     "name": "stdout",
     "output_type": "stream",
     "text": [
      "[array([ 95.,  95.,  95.,  96., 110., 122., 128., 132., 145., 152., 156.,\n",
      "       156., 157., 157., 157., 158., 164., 165., 167.]), array([ 89.,  89.,  89.,  90., 106., 119., 122., 127., 137., 144., 148.,\n",
      "       148., 151., 151., 153., 155., 161., 163., 168.]), array([ 68.,  68.,  68.,  68.,  81.,  96.,  98., 102., 110., 117., 120.,\n",
      "       120., 120., 120., 120., 120., 120., 120., 120.]), array([ 68.,  68.,  68.,  68.,  82.,  87.,  89.,  93., 101., 110., 111.,\n",
      "       111., 113., 113., 113., 115., 118., 120., 123.]), array([ 63.,  63.,  63.,  63.,  78.,  83.,  90.,  92., 105., 114., 118.,\n",
      "       118., 118., 119., 119., 119., 119., 119., 119.]), array([33., 33., 33., 33., 40., 48., 51., 52., 61., 67., 69., 69., 70.,\n",
      "       70., 72., 72., 75., 76., 82.])]\n",
      "[array([60., 79., 87., 85., 67., 51., 31., 19., 14., 10.,  7.,  6.,  5.,\n",
      "        5.,  4.,  4.,  4.,  3.,  3.]), array([65., 84., 99., 99., 79., 66., 47., 33., 25., 21., 16., 15., 11.,\n",
      "       10.,  9.,  9., 10.,  7.,  7.]), array([42., 57., 67., 58., 48., 36., 20., 10.,  7.,  5.,  2.,  2.,  1.,\n",
      "        1.,  1.,  1.,  1.,  1.,  1.]), array([61., 81., 91., 91., 73., 60., 38., 27., 22., 17., 13., 12., 10.,\n",
      "        9.,  9.,  9., 10.,  7.,  7.]), array([44., 60., 71., 63., 54., 47., 29., 18., 14., 11.,  7.,  7.,  4.,\n",
      "        3.,  3.,  3.,  3.,  3.,  3.]), array([61., 82., 94., 95., 75., 64., 45., 34., 26., 21., 16., 15., 11.,\n",
      "       10.,  9.,  9., 10.,  7.,  7.])]\n"
     ]
    }
   ],
   "source": [
    "# total 5 videos:\n",
    "\n",
    "count_l_RA_miss = []\n",
    "count_l_RA_pred = []\n",
    "\n",
    "\n",
    "# 6 RA\n",
    "for num in range(6):\n",
    "    count_l_sum = np.zeros(int(len(Dv.loc[video_list[0], :].list_start_time_s_scit1) / 2))\n",
    "    count_l_pred_sum = np.zeros(int(len(Dv.loc[video_list[0], :].list_start_time_s_scit1) / 2))\n",
    "    \n",
    "    \n",
    "    \n",
    "    for n_video in range(len(video_list)):\n",
    "        data = Dv.loc[video_list[n_video], :]\n",
    "        D_c = all_handwriten[n_video][num]\n",
    "        count_l = []\n",
    "        count_l_pred = []\n",
    "        \n",
    "        for i in range(int(len(data.list_start_time_s_scit1) / 2)):\n",
    "            count = 0\n",
    "            t1_list = data.list_start_time_s_scit1[i*2]\n",
    "            t1_dur_list = data.list_movement_time_s_scit1[i*2]\n",
    "            t2_list = data.list_start_time_s_scit1[i*2+1]\n",
    "            t2_dur_list = data.list_movement_time_s_scit1[i*2+1]\n",
    "            for k in range(len(D_c)):\n",
    "                miss = 1\n",
    "                for j in range(len(t1_list)):\n",
    "                    t1 = time.strptime(t1_list[j],'%M:%S')\n",
    "                    t1 = t1.tm_min*60 + t1.tm_sec\n",
    "                    d1 = t1_dur_list[j]\n",
    "                    if abs(D_c[k] - t1) < 2 or (t1 < D_c[k] and D_c[k] < t1+d1):\n",
    "                        miss = 0\n",
    "                        break\n",
    "                for j in range(len(t2_list)):\n",
    "                    t2 = time.strptime(t2_list[j],'%M:%S')\n",
    "                    t2 = t2.tm_min*60 + t2.tm_sec\n",
    "                    d2 = t2_dur_list[j]\n",
    "                    if abs(D_c[k] - t2) < 2 or (t2 < D_c[k] and D_c[k] < t2+d2):\n",
    "                        miss = 0\n",
    "                        break\n",
    "                        \n",
    "                if miss == 1:\n",
    "                    count = count + 1\n",
    "            count_l.append(count)\n",
    "        \n",
    "        ## count correct\n",
    "\n",
    "        for i in range(int(len(data.list_start_time_s_scit1) / 2)):\n",
    "            count = 0\n",
    "            t1_list = data.list_start_time_s_scit1[i*2]\n",
    "            t1_dur_list = data.list_movement_time_s_scit1[i*2]\n",
    "            for j in range(len(t1_list)):\n",
    "                for k in range(len(D_c)):\n",
    "                    t1 = time.strptime(t1_list[j],'%M:%S')\n",
    "                    t1 = t1.tm_min*60 + t1.tm_sec\n",
    "                    d1 = t1_dur_list[j]\n",
    "                    if abs(D_c[k] - t1) < 2 or (t1 < D_c[k] and D_c[k] < t1+d1):\n",
    "                        count = count + 1\n",
    "                        break\n",
    "            t1_list = data.list_start_time_s_scit1[i*2+1]\n",
    "            t1_dur_list = data.list_movement_time_s_scit1[i*2+1]\n",
    "            for j in range(len(t1_list)):\n",
    "                for k in range(len(D_c)):\n",
    "                    t1 = time.strptime(t1_list[j],'%M:%S')\n",
    "                    t1 = t1.tm_min*60 + t1.tm_sec\n",
    "                    d1 = t1_dur_list[j]\n",
    "                    if abs(D_c[k] - t1) < 2 or (t1 < D_c[k] and D_c[k] < t1+d1):\n",
    "                        count = count + 1\n",
    "                        break\n",
    "            count_l_pred.append(count)\n",
    "            \n",
    "        count_l_sum = count_l_sum + count_l\n",
    "        count_l_pred_sum = count_l_pred_sum + count_l_pred\n",
    "        \n",
    "    count_l_RA_miss.append(count_l_sum)\n",
    "    count_l_RA_pred.append(count_l_pred_sum)\n",
    "        \n",
    "            \n",
    "\n",
    "\n",
    "print(count_l_RA_miss)\n",
    "print(count_l_RA_pred)"
   ]
  },
  {
   "cell_type": "code",
   "execution_count": 24,
   "metadata": {},
   "outputs": [],
   "source": [
    "# RA_len = np.zeros(6)\n",
    "# for i in all_handwriten:\n",
    "#     for j in range(6):\n",
    "#         RA_len[j] = RA_len[j] + len(i[j])\n",
    "# RA_len"
   ]
  },
  {
   "cell_type": "code",
   "execution_count": 25,
   "metadata": {},
   "outputs": [
    {
     "data": {
      "text/plain": [
       "[array([0.38709677, 0.45402299, 0.47802198, 0.46961326, 0.37853107,\n",
       "        0.29479769, 0.19496855, 0.12582781, 0.08805031, 0.0617284 ,\n",
       "        0.04294479, 0.03703704, 0.0308642 , 0.0308642 , 0.02484472,\n",
       "        0.02469136, 0.02380952, 0.01785714, 0.01764706]),\n",
       " array([0.42207792, 0.48554913, 0.52659574, 0.52380952, 0.42702703,\n",
       "        0.35675676, 0.27810651, 0.20625   , 0.15432099, 0.12727273,\n",
       "        0.09756098, 0.09202454, 0.06790123, 0.0621118 , 0.05555556,\n",
       "        0.05487805, 0.05847953, 0.04117647, 0.04      ]),\n",
       " array([0.38181818, 0.456     , 0.4962963 , 0.46031746, 0.37209302,\n",
       "        0.27272727, 0.16949153, 0.08928571, 0.05982906, 0.04098361,\n",
       "        0.01639344, 0.01639344, 0.00826446, 0.00826446, 0.00826446,\n",
       "        0.00826446, 0.00826446, 0.00826446, 0.00826446]),\n",
       " array([0.47286822, 0.54362416, 0.57232704, 0.57232704, 0.47096774,\n",
       "        0.40816327, 0.2992126 , 0.225     , 0.17886179, 0.13385827,\n",
       "        0.10483871, 0.09756098, 0.08130081, 0.07377049, 0.07377049,\n",
       "        0.07258065, 0.078125  , 0.05511811, 0.05384615]),\n",
       " array([0.41121495, 0.48780488, 0.52985075, 0.5       , 0.40909091,\n",
       "        0.36153846, 0.24369748, 0.16363636, 0.11764706, 0.088     ,\n",
       "        0.056     , 0.056     , 0.03278689, 0.02459016, 0.02459016,\n",
       "        0.02459016, 0.02459016, 0.02459016, 0.02459016]),\n",
       " array([0.64893617, 0.71304348, 0.74015748, 0.7421875 , 0.65217391,\n",
       "        0.57142857, 0.46875   , 0.39534884, 0.29885057, 0.23863636,\n",
       "        0.18823529, 0.17857143, 0.13580247, 0.125     , 0.11111111,\n",
       "        0.11111111, 0.11764706, 0.08433735, 0.07865169])]"
      ]
     },
     "execution_count": 25,
     "metadata": {},
     "output_type": "execute_result"
    }
   ],
   "source": [
    "recall = []\n",
    "for i in range(len(count_l_RA_pred)):\n",
    "    recall.append(np.array(count_l_RA_pred[i]) / (np.array(count_l_RA_pred[i]) + count_l_RA_miss[i]))\n",
    "recall"
   ]
  },
  {
   "cell_type": "code",
   "execution_count": 26,
   "metadata": {},
   "outputs": [
    {
     "data": {
      "text/plain": [
       "array([0.45400204, 0.52334077, 0.55720821, 0.54470913, 0.45164728,\n",
       "       0.37756867, 0.27570444, 0.20089145, 0.1495933 , 0.11507989,\n",
       "       0.08432887, 0.0795979 , 0.05948668, 0.05410019, 0.04968942,\n",
       "       0.04935263, 0.05181929, 0.03855728, 0.03716659])"
      ]
     },
     "execution_count": 26,
     "metadata": {},
     "output_type": "execute_result"
    }
   ],
   "source": [
    "np.array(recall).sum(axis=0) / 6"
   ]
  },
  {
   "cell_type": "code",
   "execution_count": 27,
   "metadata": {},
   "outputs": [
    {
     "data": {
      "text/plain": [
       "[<matplotlib.lines.Line2D at 0x1b60ab38>,\n",
       " <matplotlib.lines.Line2D at 0x18b81f60>,\n",
       " <matplotlib.lines.Line2D at 0x18b81dd8>,\n",
       " <matplotlib.lines.Line2D at 0x18b815f8>,\n",
       " <matplotlib.lines.Line2D at 0x18b81ba8>,\n",
       " <matplotlib.lines.Line2D at 0x18b81940>]"
      ]
     },
     "execution_count": 27,
     "metadata": {},
     "output_type": "execute_result"
    },
    {
     "data": {
      "image/png": "[encoded data removed]",
      "text/plain": [
       "<Figure size 432x288 with 1 Axes>"
      ]
     },
     "metadata": {
      "needs_background": "light"
     },
     "output_type": "display_data"
    }
   ],
   "source": [
    "import matplotlib.pyplot as plt\n",
    "plt.plot(np.array(recall).T, np.arange(0,19))"
   ]
  },
  {
   "cell_type": "code",
   "execution_count": 80,
   "metadata": {},
   "outputs": [
    {
     "data": {
      "text/plain": [
       "array([ 43.,  62.,  83., 111., 120., 112.,  98.,  86.,  60.,  46.,  34.,\n",
       "        28.,  15.,  13.,  11.,   9.,   8.,   6.,   5.])"
      ]
     },
     "execution_count": 80,
     "metadata": {},
     "output_type": "execute_result"
    }
   ],
   "source": [
    "move_len = np.zeros(19)\n",
    "for i in video_list:\n",
    "    move_len = move_len + Dv.loc[i,:][0::2].num_movement_scit1.tolist() #+ Dv.loc[i,:][1::2].num_movement_scit1.tolist()\n",
    "move_len"
   ]
  },
  {
   "cell_type": "code",
   "execution_count": 81,
   "metadata": {},
   "outputs": [],
   "source": [
    "preci = []\n",
    "for i in range(len(count_l_RA_pred)):\n",
    "    preci.append(count_l_RA_pred[i] / move_len)"
   ]
  },
  {
   "cell_type": "code",
   "execution_count": 82,
   "metadata": {},
   "outputs": [
    {
     "data": {
      "text/plain": [
       "array([0.57364341, 0.15860215, 0.08433735, 0.05705706, 0.03333333,\n",
       "       0.03125   , 0.03061224, 0.03488372, 0.05      , 0.07246377,\n",
       "       0.09803922, 0.05357143, 0.1       , 0.06410256, 0.07575758,\n",
       "       0.09259259, 0.10416667, 0.11111111, 0.13333333])"
      ]
     },
     "execution_count": 82,
     "metadata": {},
     "output_type": "execute_result"
    }
   ],
   "source": [
    "np.array(preci).sum(axis=0) / 6"
   ]
  },
  {
   "cell_type": "code",
   "execution_count": 83,
   "metadata": {},
   "outputs": [
    {
     "data": {
      "text/plain": [
       "[<matplotlib.lines.Line2D at 0x6e6f1d0>,\n",
       " <matplotlib.lines.Line2D at 0x6e6f320>,\n",
       " <matplotlib.lines.Line2D at 0x6e6f470>,\n",
       " <matplotlib.lines.Line2D at 0x6e6f5c0>,\n",
       " <matplotlib.lines.Line2D at 0x6e6f710>,\n",
       " <matplotlib.lines.Line2D at 0x6e6f860>]"
      ]
     },
     "execution_count": 83,
     "metadata": {},
     "output_type": "execute_result"
    },
    {
     "data": {
      "image/png": "[encoded data removed]",
      "text/plain": [
       "<Figure size 432x288 with 1 Axes>"
      ]
     },
     "metadata": {
      "needs_background": "light"
     },
     "output_type": "display_data"
    }
   ],
   "source": [
    "plt.plot(np.array(preci).T, np.arange(0,19))"
   ]
  },
  {
   "cell_type": "code",
   "execution_count": 79,
   "metadata": {},
   "outputs": [
    {
     "data": {
      "text/plain": [
       "[<matplotlib.lines.Line2D at 0x6c73b38>,\n",
       " <matplotlib.lines.Line2D at 0x6c73c88>,\n",
       " <matplotlib.lines.Line2D at 0x6c73dd8>,\n",
       " <matplotlib.lines.Line2D at 0x6c73f28>,\n",
       " <matplotlib.lines.Line2D at 0x6c7f0b8>,\n",
       " <matplotlib.lines.Line2D at 0x6c7f208>]"
      ]
     },
     "execution_count": 79,
     "metadata": {},
     "output_type": "execute_result"
    },
    {
     "data": {
      "image/png": "[encoded data removed]",
      "text/plain": [
       "<Figure size 432x288 with 1 Axes>"
      ]
     },
     "metadata": {
      "needs_background": "light"
     },
     "output_type": "display_data"
    }
   ],
   "source": [
    "plt.plot(np.array(recall).T, np.array(preci).T)"
   ]
  },
  {
   "cell_type": "code",
   "execution_count": 33,
   "metadata": {},
   "outputs": [
    {
     "data": {
      "text/plain": [
       "0.12159447530334848"
      ]
     },
     "execution_count": 33,
     "metadata": {},
     "output_type": "execute_result"
    }
   ],
   "source": [
    "# AUC calculation:\n",
    "area = 0\n",
    "for i in range(len(recall)):\n",
    "    area = area + np.trapz(np.flip(preci[i]), np.flip(recall[i]))\n",
    "area / 6"
   ]
  },
  {
   "cell_type": "code",
   "execution_count": 34,
   "metadata": {},
   "outputs": [
    {
     "name": "stdout",
     "output_type": "stream",
     "text": [
      "[array([ 95.,  95.,  95.,  95.,  95., 100., 133., 147., 155., 156., 156.,\n",
      "       161., 162., 165., 170., 170., 171., 171., 171.]), array([ 89.,  89.,  89.,  89.,  89.,  92., 128., 143., 147., 150., 150.,\n",
      "       154., 156., 162., 173., 173., 175., 175., 177.]), array([ 68.,  68.,  68.,  68.,  68.,  72., 102., 119., 120., 122., 122.,\n",
      "       122., 122., 122., 122., 122., 122., 122., 122.]), array([ 68.,  68.,  68.,  68.,  68.,  70.,  95., 110., 112., 113., 113.,\n",
      "       116., 116., 120., 124., 124., 126., 126., 128.]), array([ 63.,  63.,  63.,  63.,  63.,  64.,  95., 110., 117., 119., 119.,\n",
      "       120., 121., 121., 121., 121., 121., 121., 121.]), array([33., 33., 33., 33., 33., 36., 56., 68., 69., 70., 70., 73., 74.,\n",
      "       76., 84., 84., 85., 85., 86.])]\n",
      "[array([38., 38., 38., 38., 38., 52., 24.,  9.,  5.,  3.,  3.,  4.,  4.,\n",
      "        4.,  3.,  3.,  2.,  2.,  2.]), array([39., 39., 39., 39., 39., 58., 32., 15.,  9.,  7.,  7.,  8.,  8.,\n",
      "        8.,  7.,  7.,  6.,  6.,  5.]), array([31., 31., 31., 31., 31., 38., 12.,  2.,  1.,  0.,  0.,  0.,  0.,\n",
      "        0.,  0.,  0.,  0.,  0.,  0.]), array([38., 38., 38., 38., 38., 56., 28., 12.,  7.,  6.,  5.,  6.,  6.,\n",
      "        6.,  6.,  6.,  5.,  5.,  4.]), array([31., 31., 31., 31., 31., 40., 16.,  7.,  3.,  2.,  2.,  2.,  1.,\n",
      "        1.,  1.,  1.,  1.,  1.,  1.]), array([38., 38., 38., 38., 38., 56., 29., 14.,  9.,  7.,  7.,  8.,  8.,\n",
      "        8.,  7.,  7.,  6.,  6.,  5.])]\n"
     ]
    }
   ],
   "source": [
    "# total 5 videos:\n",
    "\n",
    "count_l_RA_miss = []\n",
    "count_l_RA_pred = []\n",
    "\n",
    "\n",
    "# 6 RA\n",
    "for num in range(6):\n",
    "    count_l_sum = np.zeros(int(len(Dv2.loc[video_list[0], :].list_start_time_s_scit1) / 2))\n",
    "    count_l_pred_sum = np.zeros(int(len(Dv2.loc[video_list[0], :].list_start_time_s_scit1) / 2))\n",
    "    \n",
    "    \n",
    "    \n",
    "    for n_video in range(len(video_list)):\n",
    "        data = Dv2.loc[video_list[n_video], :]\n",
    "        D_c = all_handwriten[n_video][num]\n",
    "        count_l = []\n",
    "        count_l_pred = []\n",
    "        \n",
    "        for i in range(int(len(data.list_start_time_s_scit1) / 2)):\n",
    "            count = 0\n",
    "            t1_list = data.list_start_time_s_scit1[i*2]\n",
    "            t1_dur_list = data.list_movement_time_s_scit1[i*2]\n",
    "            for k in range(len(D_c)):\n",
    "                miss = 1\n",
    "                for j in range(len(t1_list)):\n",
    "                    t1 = time.strptime(t1_list[j],'%M:%S')\n",
    "                    t1 = t1.tm_min*60 + t1.tm_sec\n",
    "                    d1 = t1_dur_list[j]\n",
    "                    if abs(D_c[k] - t1) < 2 or (t1 < D_c[k] and D_c[k] < t1+d1):\n",
    "                        miss = 0\n",
    "                        break\n",
    "                if miss == 1:\n",
    "                    count = count + 1\n",
    "            count_l.append(count)\n",
    "        \n",
    "        for i in range(int(len(data.list_start_time_s_scit1) / 2)):\n",
    "            count = 0\n",
    "            t1_list = data.list_start_time_s_scit1[i*2]\n",
    "            t1_dur_list = data.list_movement_time_s_scit1[i*2]\n",
    "            for j in range(len(t1_list)):\n",
    "                for k in range(len(D_c)):\n",
    "                    t1 = time.strptime(t1_list[j],'%M:%S')\n",
    "                    t1 = t1.tm_min*60 + t1.tm_sec\n",
    "                    d1 = t1_dur_list[j]\n",
    "                    if abs(D_c[k] - t1) < 2 or (t1 < D_c[k] and D_c[k] < t1+d1):\n",
    "                        count = count + 1\n",
    "                        break\n",
    "            count_l_pred.append(count)\n",
    "            \n",
    "        count_l_sum = count_l_sum + count_l\n",
    "        count_l_pred_sum = count_l_pred_sum + count_l_pred\n",
    "        \n",
    "    count_l_RA_miss.append(count_l_sum)\n",
    "    count_l_RA_pred.append(count_l_pred_sum)\n",
    "        \n",
    "            \n",
    "\n",
    "\n",
    "print(count_l_RA_miss)\n",
    "print(count_l_RA_pred)"
   ]
  },
  {
   "cell_type": "code",
   "execution_count": 35,
   "metadata": {},
   "outputs": [
    {
     "data": {
      "text/plain": [
       "[array([0.28571429, 0.28571429, 0.28571429, 0.28571429, 0.28571429,\n",
       "        0.34210526, 0.15286624, 0.05769231, 0.03125   , 0.01886792,\n",
       "        0.01886792, 0.02424242, 0.02409639, 0.02366864, 0.01734104,\n",
       "        0.01734104, 0.01156069, 0.01156069, 0.01156069]),\n",
       " array([0.3046875 , 0.3046875 , 0.3046875 , 0.3046875 , 0.3046875 ,\n",
       "        0.38666667, 0.2       , 0.09493671, 0.05769231, 0.04458599,\n",
       "        0.04458599, 0.04938272, 0.04878049, 0.04705882, 0.03888889,\n",
       "        0.03888889, 0.03314917, 0.03314917, 0.02747253]),\n",
       " array([0.31313131, 0.31313131, 0.31313131, 0.31313131, 0.31313131,\n",
       "        0.34545455, 0.10526316, 0.01652893, 0.00826446, 0.        ,\n",
       "        0.        , 0.        , 0.        , 0.        , 0.        ,\n",
       "        0.        , 0.        , 0.        , 0.        ]),\n",
       " array([0.35849057, 0.35849057, 0.35849057, 0.35849057, 0.35849057,\n",
       "        0.44444444, 0.22764228, 0.09836066, 0.05882353, 0.05042017,\n",
       "        0.04237288, 0.04918033, 0.04918033, 0.04761905, 0.04615385,\n",
       "        0.04615385, 0.03816794, 0.03816794, 0.03030303]),\n",
       " array([0.32978723, 0.32978723, 0.32978723, 0.32978723, 0.32978723,\n",
       "        0.38461538, 0.14414414, 0.05982906, 0.025     , 0.01652893,\n",
       "        0.01652893, 0.01639344, 0.00819672, 0.00819672, 0.00819672,\n",
       "        0.00819672, 0.00819672, 0.00819672, 0.00819672]),\n",
       " array([0.53521127, 0.53521127, 0.53521127, 0.53521127, 0.53521127,\n",
       "        0.60869565, 0.34117647, 0.17073171, 0.11538462, 0.09090909,\n",
       "        0.09090909, 0.09876543, 0.09756098, 0.0952381 , 0.07692308,\n",
       "        0.07692308, 0.06593407, 0.06593407, 0.05494505])]"
      ]
     },
     "execution_count": 35,
     "metadata": {},
     "output_type": "execute_result"
    }
   ],
   "source": [
    "recall = []\n",
    "for i in range(len(count_l_RA_pred)):\n",
    "    recall.append(np.array(count_l_RA_pred[i]) / (np.array(count_l_RA_pred[i]) + count_l_RA_miss[i]))\n",
    "recall"
   ]
  },
  {
   "cell_type": "code",
   "execution_count": 36,
   "metadata": {},
   "outputs": [
    {
     "data": {
      "text/plain": [
       "array([0.35450369, 0.35450369, 0.35450369, 0.35450369, 0.35450369,\n",
       "       0.41866366, 0.19518205, 0.08301323, 0.04940249, 0.03688535,\n",
       "       0.03554413, 0.03966072, 0.03796915, 0.03696355, 0.0312506 ,\n",
       "       0.0312506 , 0.0261681 , 0.0261681 , 0.02207967])"
      ]
     },
     "execution_count": 36,
     "metadata": {},
     "output_type": "execute_result"
    }
   ],
   "source": [
    "np.array(recall).sum(axis=0) / 6"
   ]
  },
  {
   "cell_type": "code",
   "execution_count": 37,
   "metadata": {},
   "outputs": [
    {
     "data": {
      "text/plain": [
       "[<matplotlib.lines.Line2D at 0x571bba8>,\n",
       " <matplotlib.lines.Line2D at 0x571bcf8>,\n",
       " <matplotlib.lines.Line2D at 0x571be48>,\n",
       " <matplotlib.lines.Line2D at 0x571bf98>,\n",
       " <matplotlib.lines.Line2D at 0x572c128>,\n",
       " <matplotlib.lines.Line2D at 0x572c278>]"
      ]
     },
     "execution_count": 37,
     "metadata": {},
     "output_type": "execute_result"
    },
    {
     "data": {
      "image/png": "[encoded data removed]",
      "text/plain": [
       "<Figure size 432x288 with 1 Axes>"
      ]
     },
     "metadata": {
      "needs_background": "light"
     },
     "output_type": "display_data"
    }
   ],
   "source": [
    "plt.plot(np.array(recall).T, np.arange(0,19))"
   ]
  },
  {
   "cell_type": "code",
   "execution_count": 38,
   "metadata": {},
   "outputs": [
    {
     "data": {
      "text/plain": [
       "0      55.0\n",
       "2      55.0\n",
       "4      55.0\n",
       "6      55.0\n",
       "8      55.0\n",
       "10    106.0\n",
       "12    115.0\n",
       "14     39.0\n",
       "16     20.0\n",
       "18     10.0\n",
       "20      8.0\n",
       "22      9.0\n",
       "24      8.0\n",
       "26      8.0\n",
       "28      8.0\n",
       "30      8.0\n",
       "32      7.0\n",
       "34      7.0\n",
       "36      6.0\n",
       "Name: num_movement_scit1, dtype: float64"
      ]
     },
     "execution_count": 38,
     "metadata": {},
     "output_type": "execute_result"
    }
   ],
   "source": [
    "move_len = np.zeros(19)\n",
    "for i in video_list:\n",
    "    move_len = move_len + Dv2.loc[i,:][0::2].num_movement_scit1\n",
    "move_len"
   ]
  },
  {
   "cell_type": "code",
   "execution_count": 39,
   "metadata": {},
   "outputs": [],
   "source": [
    "preci = []\n",
    "for i in range(len(count_l_RA_pred)):\n",
    "    preci.append(count_l_RA_pred[i] / move_len)"
   ]
  },
  {
   "cell_type": "code",
   "execution_count": 40,
   "metadata": {},
   "outputs": [
    {
     "data": {
      "text/plain": [
       "array([0.65151515, 0.65151515, 0.65151515, 0.65151515, 0.65151515,\n",
       "       0.47169811, 0.20434783, 0.25213675, 0.28333333, 0.41666667,\n",
       "       0.5       , 0.51851852, 0.5625    , 0.5625    , 0.5       ,\n",
       "       0.5       , 0.47619048, 0.47619048, 0.47222222])"
      ]
     },
     "execution_count": 40,
     "metadata": {},
     "output_type": "execute_result"
    }
   ],
   "source": [
    "np.array(preci).sum(axis=0) / 6"
   ]
  },
  {
   "cell_type": "code",
   "execution_count": 41,
   "metadata": {},
   "outputs": [
    {
     "data": {
      "text/plain": [
       "[<matplotlib.lines.Line2D at 0x18b72b70>,\n",
       " <matplotlib.lines.Line2D at 0x18b724a8>,\n",
       " <matplotlib.lines.Line2D at 0x18b72cc0>,\n",
       " <matplotlib.lines.Line2D at 0x18b72e48>,\n",
       " <matplotlib.lines.Line2D at 0x18b70fd0>,\n",
       " <matplotlib.lines.Line2D at 0x18b70780>]"
      ]
     },
     "execution_count": 41,
     "metadata": {},
     "output_type": "execute_result"
    },
    {
     "data": {
      "image/png": "[encoded data removed]",
      "text/plain": [
       "<Figure size 432x288 with 1 Axes>"
      ]
     },
     "metadata": {
      "needs_background": "light"
     },
     "output_type": "display_data"
    }
   ],
   "source": [
    "plt.plot(np.array(preci).T, np.arange(0,19))"
   ]
  },
  {
   "cell_type": "code",
   "execution_count": 42,
   "metadata": {},
   "outputs": [
    {
     "data": {
      "text/plain": [
       "[<matplotlib.lines.Line2D at 0x18b994a8>,\n",
       " <matplotlib.lines.Line2D at 0x18b995f8>,\n",
       " <matplotlib.lines.Line2D at 0x18b99748>,\n",
       " <matplotlib.lines.Line2D at 0x18b99898>,\n",
       " <matplotlib.lines.Line2D at 0x18b999e8>,\n",
       " <matplotlib.lines.Line2D at 0x18b99b38>]"
      ]
     },
     "execution_count": 42,
     "metadata": {},
     "output_type": "execute_result"
    },
    {
     "data": {
      "image/png": "[encoded data removed]",
      "text/plain": [
       "<Figure size 432x288 with 1 Axes>"
      ]
     },
     "metadata": {
      "needs_background": "light"
     },
     "output_type": "display_data"
    }
   ],
   "source": [
    "plt.plot(np.array(recall).T, np.array(preci).T)"
   ]
  },
  {
   "cell_type": "code",
   "execution_count": 43,
   "metadata": {},
   "outputs": [
    {
     "data": {
      "text/plain": [
       "0.09174320388925522"
      ]
     },
     "execution_count": 43,
     "metadata": {},
     "output_type": "execute_result"
    }
   ],
   "source": [
    "# AUC calculation:\n",
    "area = 0\n",
    "for i in range(len(recall)):\n",
    "    area = area + np.trapz(np.flip(preci[i]), np.flip(recall[i]))\n",
    "area / 6"
   ]
  },
  {
   "cell_type": "code",
   "execution_count": 44,
   "metadata": {},
   "outputs": [
    {
     "name": "stdout",
     "output_type": "stream",
     "text": [
      "[array([ 95., 156., 156., 156., 157., 157., 157., 157., 157., 157., 157.,\n",
      "       158., 162., 164., 164., 164., 164., 164., 168.]), array([ 88., 147., 149., 149., 152., 152., 153., 153., 153., 155., 156.,\n",
      "       160., 161., 168., 168., 168., 168., 168., 177.]), array([ 68., 119., 121., 121., 121., 122., 122., 122., 122., 122., 122.,\n",
      "       122., 122., 122., 122., 122., 122., 122., 122.]), array([ 68., 111., 113., 113., 115., 115., 115., 115., 115., 115., 116.,\n",
      "       118., 123., 129., 129., 129., 129., 129., 131.]), array([ 63., 116., 117., 117., 117., 119., 119., 119., 120., 120., 120.,\n",
      "       121., 121., 121., 121., 121., 121., 122., 122.]), array([33., 68., 69., 69., 70., 70., 72., 72., 74., 74., 75., 78., 78.,\n",
      "       81., 81., 81., 81., 81., 88.])]\n",
      "[array([27.,  9.,  7.,  6.,  3.,  3.,  3.,  3.,  3.,  3.,  3.,  2.,  2.,\n",
      "        1.,  1.,  1.,  1.,  1.,  1.]), array([27., 14., 10., 10.,  7.,  6.,  5.,  5.,  5.,  5.,  5.,  2.,  2.,\n",
      "        1.,  1.,  1.,  1.,  1.,  1.]), array([21.,  2.,  1.,  1.,  1.,  0.,  0.,  0.,  0.,  0.,  0.,  0.,  0.,\n",
      "        0.,  0.,  0.,  0.,  0.,  0.]), array([26., 13.,  9.,  7.,  4.,  4.,  4.,  4.,  4.,  5.,  5.,  2.,  2.,\n",
      "        1.,  1.,  1.,  1.,  1.,  1.]), array([21.,  7.,  5.,  4.,  3.,  2.,  2.,  2.,  2.,  2.,  2.,  1.,  1.,\n",
      "        1.,  1.,  1.,  1.,  0.,  0.]), array([26., 14., 10., 10.,  6.,  6.,  4.,  4.,  4.,  5.,  5.,  2.,  2.,\n",
      "        1.,  1.,  1.,  1.,  1.,  1.])]\n"
     ]
    }
   ],
   "source": [
    "# total 5 videos:\n",
    "\n",
    "count_l_RA_miss = []\n",
    "count_l_RA_pred = []\n",
    "\n",
    "\n",
    "# 6 RA\n",
    "for num in range(6):\n",
    "    count_l_sum = np.zeros(int(len(Dm.loc[video_list[0], :].list_start_time_s_scit1) / 2))\n",
    "    count_l_pred_sum = np.zeros(int(len(Dm.loc[video_list[0], :].list_start_time_s_scit1) / 2))\n",
    "    \n",
    "    \n",
    "    \n",
    "    for n_video in range(len(video_list)):\n",
    "        data = Dm.loc[video_list[n_video], :]\n",
    "        D_c = all_handwriten[n_video][num]\n",
    "        count_l = []\n",
    "        count_l_pred = []\n",
    "        \n",
    "        for i in range(int(len(data.list_start_time_s_scit1) / 2)):\n",
    "            count = 0\n",
    "            t1_list = data.list_start_time_s_scit1[i*2]\n",
    "            t1_dur_list = data.list_movement_time_s_scit1[i*2]\n",
    "            for k in range(len(D_c)):\n",
    "                miss = 1\n",
    "                for j in range(len(t1_list)):\n",
    "                    t1 = time.strptime(t1_list[j],'%M:%S')\n",
    "                    t1 = t1.tm_min*60 + t1.tm_sec\n",
    "                    d1 = t1_dur_list[j]\n",
    "                    if abs(D_c[k] - t1) < 2 or (t1 < D_c[k] and D_c[k] < t1+d1):\n",
    "                        miss = 0\n",
    "                        break\n",
    "                if miss == 1:\n",
    "                    count = count + 1\n",
    "            count_l.append(count)\n",
    "\n",
    "        for i in range(int(len(data.list_start_time_s_scit1) / 2)):\n",
    "            count = 0\n",
    "            t1_list = data.list_start_time_s_scit1[i*2]\n",
    "            t1_dur_list = data.list_movement_time_s_scit1[i*2]\n",
    "            for j in range(len(t1_list)):\n",
    "                for k in range(len(D_c)):\n",
    "                    t1 = time.strptime(t1_list[j],'%M:%S')\n",
    "                    t1 = t1.tm_min*60 + t1.tm_sec\n",
    "                    d1 = t1_dur_list[j]\n",
    "                    if abs(D_c[k] - t1) < 2 or (t1 < D_c[k] and D_c[k] < t1+d1):\n",
    "                        count = count + 1\n",
    "                        break\n",
    "            count_l_pred.append(count)\n",
    "            \n",
    "        count_l_sum = count_l_sum + count_l\n",
    "        count_l_pred_sum = count_l_pred_sum + count_l_pred\n",
    "        \n",
    "    count_l_RA_miss.append(count_l_sum)\n",
    "    count_l_RA_pred.append(count_l_pred_sum)\n",
    "        \n",
    "            \n",
    "\n",
    "\n",
    "print(count_l_RA_miss)\n",
    "print(count_l_RA_pred)"
   ]
  },
  {
   "cell_type": "code",
   "execution_count": 45,
   "metadata": {},
   "outputs": [
    {
     "data": {
      "text/plain": [
       "[array([0.22131148, 0.05454545, 0.04294479, 0.03703704, 0.01875   ,\n",
       "        0.01875   , 0.01875   , 0.01875   , 0.01875   , 0.01875   ,\n",
       "        0.01875   , 0.0125    , 0.01219512, 0.00606061, 0.00606061,\n",
       "        0.00606061, 0.00606061, 0.00606061, 0.00591716]),\n",
       " array([0.23478261, 0.08695652, 0.06289308, 0.06289308, 0.04402516,\n",
       "        0.03797468, 0.03164557, 0.03164557, 0.03164557, 0.03125   ,\n",
       "        0.0310559 , 0.01234568, 0.01226994, 0.00591716, 0.00591716,\n",
       "        0.00591716, 0.00591716, 0.00591716, 0.00561798]),\n",
       " array([0.23595506, 0.01652893, 0.00819672, 0.00819672, 0.00819672,\n",
       "        0.        , 0.        , 0.        , 0.        , 0.        ,\n",
       "        0.        , 0.        , 0.        , 0.        , 0.        ,\n",
       "        0.        , 0.        , 0.        , 0.        ]),\n",
       " array([0.27659574, 0.10483871, 0.07377049, 0.05833333, 0.03361345,\n",
       "        0.03361345, 0.03361345, 0.03361345, 0.03361345, 0.04166667,\n",
       "        0.04132231, 0.01666667, 0.016     , 0.00769231, 0.00769231,\n",
       "        0.00769231, 0.00769231, 0.00769231, 0.00757576]),\n",
       " array([0.25      , 0.05691057, 0.04098361, 0.03305785, 0.025     ,\n",
       "        0.01652893, 0.01652893, 0.01652893, 0.01639344, 0.01639344,\n",
       "        0.01639344, 0.00819672, 0.00819672, 0.00819672, 0.00819672,\n",
       "        0.00819672, 0.00819672, 0.        , 0.        ]),\n",
       " array([0.44067797, 0.17073171, 0.12658228, 0.12658228, 0.07894737,\n",
       "        0.07894737, 0.05263158, 0.05263158, 0.05128205, 0.06329114,\n",
       "        0.0625    , 0.025     , 0.025     , 0.01219512, 0.01219512,\n",
       "        0.01219512, 0.01219512, 0.01219512, 0.01123596])]"
      ]
     },
     "execution_count": 45,
     "metadata": {},
     "output_type": "execute_result"
    }
   ],
   "source": [
    "recall = []\n",
    "for i in range(len(count_l_RA_pred)):\n",
    "    recall.append(np.array(count_l_RA_pred[i]) / (np.array(count_l_RA_pred[i]) + count_l_RA_miss[i]))\n",
    "recall"
   ]
  },
  {
   "cell_type": "code",
   "execution_count": 46,
   "metadata": {},
   "outputs": [
    {
     "data": {
      "text/plain": [
       "array([0.65151515, 0.65151515, 0.65151515, 0.65151515, 0.65151515,\n",
       "       0.47169811, 0.20434783, 0.25213675, 0.28333333, 0.41666667,\n",
       "       0.5       , 0.51851852, 0.5625    , 0.5625    , 0.5       ,\n",
       "       0.5       , 0.47619048, 0.47619048, 0.47222222])"
      ]
     },
     "execution_count": 46,
     "metadata": {},
     "output_type": "execute_result"
    }
   ],
   "source": [
    "np.array(preci).sum(axis=0) / 6"
   ]
  },
  {
   "cell_type": "code",
   "execution_count": 47,
   "metadata": {},
   "outputs": [
    {
     "data": {
      "text/plain": [
       "[<matplotlib.lines.Line2D at 0x1b5f5898>,\n",
       " <matplotlib.lines.Line2D at 0x1b5f59e8>,\n",
       " <matplotlib.lines.Line2D at 0x1b5f5b38>,\n",
       " <matplotlib.lines.Line2D at 0x1b5f5c88>,\n",
       " <matplotlib.lines.Line2D at 0x1b5f5dd8>,\n",
       " <matplotlib.lines.Line2D at 0x1b5f5f28>]"
      ]
     },
     "execution_count": 47,
     "metadata": {},
     "output_type": "execute_result"
    },
    {
     "data": {
      "image/png": "[encoded data removed]",
      "text/plain": [
       "<Figure size 432x288 with 1 Axes>"
      ]
     },
     "metadata": {
      "needs_background": "light"
     },
     "output_type": "display_data"
    }
   ],
   "source": [
    "plt.plot(np.array(recall).T, np.arange(0,19))"
   ]
  },
  {
   "cell_type": "code",
   "execution_count": 48,
   "metadata": {},
   "outputs": [
    {
     "data": {
      "text/plain": [
       "0     34.0\n",
       "2     25.0\n",
       "4     13.0\n",
       "6     13.0\n",
       "8     10.0\n",
       "10     8.0\n",
       "12     7.0\n",
       "14     6.0\n",
       "16     6.0\n",
       "18     6.0\n",
       "20     6.0\n",
       "22     3.0\n",
       "24     3.0\n",
       "26     2.0\n",
       "28     2.0\n",
       "30     2.0\n",
       "32     2.0\n",
       "34     1.0\n",
       "36     1.0\n",
       "Name: num_movement_scit1, dtype: float64"
      ]
     },
     "execution_count": 48,
     "metadata": {},
     "output_type": "execute_result"
    }
   ],
   "source": [
    "move_len = np.zeros(19)\n",
    "for i in video_list:\n",
    "    move_len = move_len + Dm.loc[i,:][0::2].num_movement_scit1\n",
    "move_len"
   ]
  },
  {
   "cell_type": "code",
   "execution_count": 49,
   "metadata": {},
   "outputs": [],
   "source": [
    "preci = []\n",
    "for i in range(len(count_l_RA_pred)):\n",
    "    preci.append(count_l_RA_pred[i] / move_len)"
   ]
  },
  {
   "cell_type": "code",
   "execution_count": 50,
   "metadata": {},
   "outputs": [
    {
     "data": {
      "text/plain": [
       "array([0.7254902 , 0.39333333, 0.53846154, 0.48717949, 0.4       ,\n",
       "       0.4375    , 0.42857143, 0.5       , 0.5       , 0.55555556,\n",
       "       0.55555556, 0.5       , 0.5       , 0.41666667, 0.41666667,\n",
       "       0.41666667, 0.41666667, 0.66666667, 0.66666667])"
      ]
     },
     "execution_count": 50,
     "metadata": {},
     "output_type": "execute_result"
    }
   ],
   "source": [
    "np.array(preci).sum(axis=0) / 6"
   ]
  },
  {
   "cell_type": "code",
   "execution_count": 51,
   "metadata": {},
   "outputs": [
    {
     "data": {
      "text/plain": [
       "[<matplotlib.lines.Line2D at 0x5584eb8>,\n",
       " <matplotlib.lines.Line2D at 0x55ab048>,\n",
       " <matplotlib.lines.Line2D at 0x55ab198>,\n",
       " <matplotlib.lines.Line2D at 0x55ab2e8>,\n",
       " <matplotlib.lines.Line2D at 0x55ab438>,\n",
       " <matplotlib.lines.Line2D at 0x55ab588>]"
      ]
     },
     "execution_count": 51,
     "metadata": {},
     "output_type": "execute_result"
    },
    {
     "data": {
      "image/png": "[encoded data removed]",
      "text/plain": [
       "<Figure size 432x288 with 1 Axes>"
      ]
     },
     "metadata": {
      "needs_background": "light"
     },
     "output_type": "display_data"
    }
   ],
   "source": [
    "plt.plot(np.array(preci).T, np.arange(0,19))"
   ]
  },
  {
   "cell_type": "code",
   "execution_count": 52,
   "metadata": {},
   "outputs": [
    {
     "data": {
      "text/plain": [
       "[<matplotlib.lines.Line2D at 0x6b77f28>,\n",
       " <matplotlib.lines.Line2D at 0x6b820b8>,\n",
       " <matplotlib.lines.Line2D at 0x6b82208>,\n",
       " <matplotlib.lines.Line2D at 0x6b82358>,\n",
       " <matplotlib.lines.Line2D at 0x6b824a8>,\n",
       " <matplotlib.lines.Line2D at 0x6b825f8>]"
      ]
     },
     "execution_count": 52,
     "metadata": {},
     "output_type": "execute_result"
    },
    {
     "data": {
      "image/png": "[encoded data removed]",
      "text/plain": [
       "<Figure size 432x288 with 1 Axes>"
      ]
     },
     "metadata": {
      "needs_background": "light"
     },
     "output_type": "display_data"
    }
   ],
   "source": [
    "plt.plot(np.array(recall).T, np.array(preci).T)"
   ]
  },
  {
   "cell_type": "code",
   "execution_count": 53,
   "metadata": {},
   "outputs": [
    {
     "data": {
      "text/plain": [
       "0.15233909098794932"
      ]
     },
     "execution_count": 53,
     "metadata": {},
     "output_type": "execute_result"
    }
   ],
   "source": [
    "# AUC calculation:\n",
    "area = 0\n",
    "for i in range(len(recall)):\n",
    "    area = area + np.trapz(np.flip(preci[i]), np.flip(recall[i]))\n",
    "area / 6"
   ]
  },
  {
   "cell_type": "code",
   "execution_count": 54,
   "metadata": {},
   "outputs": [],
   "source": [
    "outv = Dv.iloc[0::2]\n",
    "outv.to_csv('outv.csv')"
   ]
  },
  {
   "cell_type": "code",
   "execution_count": 55,
   "metadata": {},
   "outputs": [],
   "source": [
    "outm = Dm.iloc[0::2]\n",
    "outm.to_csv('outm.csv')"
   ]
  },
  {
   "cell_type": "code",
   "execution_count": null,
   "metadata": {},
   "outputs": [],
   "source": []
  },
  {
   "cell_type": "code",
   "execution_count": null,
   "metadata": {},
   "outputs": [],
   "source": []
  }
 ],
 "metadata": {
  "kernelspec": {
   "display_name": "Python 3",
   "language": "python",
   "name": "python3"
  },
  "language_info": {
   "codemirror_mode": {
    "name": "ipython",
    "version": 3
   },
   "file_extension": ".py",
   "mimetype": "text/x-python",
   "name": "python",
   "nbconvert_exporter": "python",
   "pygments_lexer": "ipython3",
   "version": "3.7.3"
  }
 },
 "nbformat": 4,
 "nbformat_minor": 2
}
